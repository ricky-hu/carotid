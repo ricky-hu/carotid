{
  "cells": [
    {
      "cell_type": "markdown",
      "source": [
        "# CISC499: UNDERGRADUATE RESEARCH PROJECT"
      ],
      "metadata": {
        "id": "EPuhGbg1F9gG"
      }
    },
    {
      "cell_type": "markdown",
      "source": [
        "## LOAD LIBRARIES"
      ],
      "metadata": {
        "id": "rAGyzAz7F5Ut"
      }
    },
    {
      "cell_type": "code",
      "execution_count": null,
      "metadata": {
        "id": "YLyYQDVfpg1h"
      },
      "outputs": [],
      "source": [
        "import cv2\n",
        "import os\n",
        "import re\n",
        "import glob\n",
        "import random\n",
        "import numpy as np\n",
        "import pandas as pd\n",
        "import matplotlib.pyplot as plt\n",
        "\n",
        "import keras\n",
        "from keras.layers import *\n",
        "from keras.models import *\n",
        "from keras.preprocessing import image\n",
        "from sklearn.model_selection import train_test_split\n",
        "from sklearn.metrics import roc_curve, auc, confusion_matrix, ConfusionMatrixDisplay, RocCurveDisplay"
      ]
    },
    {
      "cell_type": "code",
      "execution_count": null,
      "metadata": {
        "colab": {
          "base_uri": "https://localhost:8080/"
        },
        "id": "j_09U9gd5DE-",
        "outputId": "9e6ce809-1ee9-4b0e-dc43-06a45b4c07d6"
      },
      "outputs": [
        {
          "output_type": "stream",
          "name": "stdout",
          "text": [
            "Mounted at /content/drive\n"
          ]
        }
      ],
      "source": [
        "from google.colab import drive\n",
        "drive.mount('/content/drive', force_remount=True)"
      ]
    },
    {
      "cell_type": "markdown",
      "source": [
        "## CNN-BASED APPROACH"
      ],
      "metadata": {
        "id": "fERNx2B19Gvw"
      }
    },
    {
      "cell_type": "code",
      "execution_count": null,
      "metadata": {
        "id": "6aoUeSTb5DA0"
      },
      "outputs": [],
      "source": [
        "src_path = \"/content/drive/MyDrive/cisc499/original_images\"\n",
        "carotid_data = pd.read_excel(os.path.join('/content/drive/MyDrive/cisc499/CarotidData-Ver3.xlsx'), skipfooter=7, usecols=\"A,BU\", engine='openpyxl')"
      ]
    },
    {
      "cell_type": "code",
      "source": [
        "IMG_HEIGHT = 350\n",
        "IMG_WIDTH = 350\n",
        "BATCH_SIZE = 32"
      ],
      "metadata": {
        "id": "Fe7f8ZvgAMAR"
      },
      "execution_count": null,
      "outputs": []
    },
    {
      "cell_type": "code",
      "source": [
        "def getSetsExcel(pathToData, bulb):\n",
        "  train_data_right = pd.read_excel(os.path.join('/content/drive/MyDrive/cisc499/MASK-train_val_test_split.xlsx'), sheet_name=\"Train - Right Bulb\", engine='openpyxl') \n",
        "  train_data_right['label'] = train_data_right['label'].astype(str)\n",
        "  for id in train_data_right['filename']:\n",
        "    train_data_right['filename'] = train_data_right['filename'].replace([id], glob.glob(os.path.join(src_path + '/right_images/' + \"*\" + str(id) + \"*\"))[0])\n",
        "  \n",
        "  val_data_right = pd.read_excel(os.path.join('/content/drive/MyDrive/cisc499/MASK-train_val_test_split.xlsx'), sheet_name=\"Val - Right Bulb\", engine='openpyxl') \n",
        "  val_data_right['label'] = val_data_right['label'].astype(str)\n",
        "  for id in val_data_right['filename']:\n",
        "    val_data_right['filename'] = val_data_right['filename'].replace([id], glob.glob(os.path.join(src_path + '/right_images/' + \"*\" + str(id) + \"*\"))[0])\n",
        "  \n",
        "  test_data_right = pd.read_excel(os.path.join('/content/drive/MyDrive/cisc499/MASK-train_val_test_split.xlsx'), sheet_name=\"Test - Right Bulb\", engine='openpyxl') \n",
        "  test_data_right['label'] = test_data_right['label'].astype(str)\n",
        "  for id in test_data_right['filename']:\n",
        "    test_data_right['filename'] = test_data_right['filename'].replace([id], glob.glob(os.path.join(src_path + '/right_images/' + \"*\" + str(id) + \"*\"))[0])\n",
        "\n",
        "  train_data_left = pd.read_excel(os.path.join('/content/drive/MyDrive/cisc499/MASK-train_val_test_split.xlsx'), sheet_name=\"Train - Left Bulb\", engine='openpyxl') \n",
        "  train_data_left['label'] = train_data_left['label'].astype(str)\n",
        "  for id in train_data_left['filename']:\n",
        "    train_data_left['filename'] = train_data_left['filename'].replace([id], glob.glob(os.path.join(src_path + '/left_images/' + \"*\" + str(id) + \"*\"))[0])\n",
        "\n",
        "  val_data_left = pd.read_excel(os.path.join('/content/drive/MyDrive/cisc499/MASK-train_val_test_split.xlsx'), sheet_name=\"Val - Left Bulb\", engine='openpyxl') \n",
        "  val_data_left['label'] = val_data_left['label'].astype(str)\n",
        "  for id in val_data_left['filename']:\n",
        "    val_data_left['filename'] = val_data_left['filename'].replace([id], glob.glob(os.path.join(src_path + '/left_images/' + \"*\" + str(id) + \"*\"))[0])\n",
        "\n",
        "  test_data_left = pd.read_excel(os.path.join('/content/drive/MyDrive/cisc499/MASK-train_val_test_split.xlsx'), sheet_name=\"Test - Left Bulb\", engine='openpyxl') \n",
        "  test_data_left['label'] = test_data_left['label'].astype(str)\n",
        "  for id in test_data_left['filename']:\n",
        "    test_data_left['filename'] = test_data_left['filename'].replace([id], glob.glob(os.path.join(src_path + '/left_images/' + \"*\" + str(id) + \"*\"))[0])\n",
        "\n",
        "  if bulb == \"right\":\n",
        "    return train_data_right, val_data_right, test_data_right\n",
        "  else:\n",
        "    return train_data_left, val_data_left, test_data_left\n"
      ],
      "metadata": {
        "id": "tT174QH0yAK_"
      },
      "execution_count": null,
      "outputs": []
    },
    {
      "cell_type": "code",
      "source": [
        "def createModel():\n",
        "  model = keras.Sequential()\n",
        "\n",
        "  # Convolutional layer and maxpool layer 1\n",
        "  model.add(keras.layers.Conv2D(16,(3,3),activation='relu',input_shape=(IMG_HEIGHT,IMG_WIDTH,1)))\n",
        "  model.add(keras.layers.BatchNormalization())\n",
        "  model.add(keras.layers.MaxPool2D(2,2))\n",
        "\n",
        "  # Convolutional layer and maxpool layer 2\n",
        "  model.add(keras.layers.Conv2D(32,(3,3),activation='relu'))\n",
        "  model.add(keras.layers.BatchNormalization())\n",
        "  model.add(keras.layers.MaxPool2D(2,2))\n",
        "\n",
        "  # Convolutional layer and maxpool layer 3\n",
        "  model.add(keras.layers.Conv2D(32,(3,3),activation='relu'))\n",
        "  model.add(keras.layers.BatchNormalization())\n",
        "  model.add(keras.layers.MaxPool2D(2,2))\n",
        "\n",
        "  # Convolutional layer and maxpool layer 4\n",
        "  model.add(keras.layers.Conv2D(64,(3,3),activation='relu'))\n",
        "  model.add(keras.layers.BatchNormalization())\n",
        "  model.add(keras.layers.MaxPool2D(2,2))\n",
        "\n",
        "  # Convolutional layer and maxpool layer 5\n",
        "  model.add(keras.layers.Conv2D(64,(3,3),activation='relu'))\n",
        "  model.add(keras.layers.BatchNormalization())\n",
        "  model.add(keras.layers.MaxPool2D(2,2))\n",
        "\n",
        "  # This layer flattens the resulting image array to 1D array\n",
        "  model.add(keras.layers.Flatten())\n",
        "\n",
        "  # Hidden layer with 400 neurons and Rectified Linear Unit activation function \n",
        "  model.add(keras.layers.Dense(400,activation='relu'))\n",
        "  model.add(Dropout(0.5))\n",
        "\n",
        "  # Output layer with single neuron\n",
        "  #Here we use sigmoid activation function which makes our model output to lie between 0 and 1\n",
        "  model.add(keras.layers.Dense(1,activation='sigmoid'))\n",
        "\n",
        "  opt = tf.keras.optimizers.Adam(learning_rate=0.01)\n",
        "  model.compile(optimizer='Adam',loss='binary_crossentropy',metrics=['accuracy'])\n",
        "\n",
        "  return model"
      ],
      "metadata": {
        "id": "Q3jMrAd590uR"
      },
      "execution_count": null,
      "outputs": []
    },
    {
      "cell_type": "markdown",
      "source": [
        "#### LOAD DATA"
      ],
      "metadata": {
        "id": "6uKkr0c1A2eA"
      }
    },
    {
      "cell_type": "code",
      "source": [
        "train_data, val_data, test_data = getSetsExcel(src_path, \"left\")"
      ],
      "metadata": {
        "id": "8282wKU5_27t"
      },
      "execution_count": null,
      "outputs": []
    },
    {
      "cell_type": "code",
      "source": [
        "# View distribution of classes in each set\n",
        "train_data['label'].value_counts().plot.bar()\n",
        "\n",
        "train_0 = len(train_data['label']) - sum(map(int, train_data['label']))\n",
        "train_1 = sum(map(int, train_data['label']))\n",
        "print(\"Train: ratio of class 0 to class 1: {0}:1\".format(round(train_0/train_1,2)))"
      ],
      "metadata": {
        "colab": {
          "base_uri": "https://localhost:8080/",
          "height": 279
        },
        "id": "NkYrWochA7LP",
        "outputId": "03caf2b6-0c04-44b2-eac6-6e283cada4ca"
      },
      "execution_count": null,
      "outputs": [
        {
          "output_type": "stream",
          "name": "stdout",
          "text": [
            "Train: ratio of class 0 to class 1: 1.61:1\n"
          ]
        },
        {
          "output_type": "display_data",
          "data": {
            "text/plain": [
              "<Figure size 432x288 with 1 Axes>"
            ],
            "image/png": "[encoded data removed]"
          },
          "metadata": {
            "needs_background": "light"
          }
        }
      ]
    },
    {
      "cell_type": "code",
      "source": [
        "val_data['label'].value_counts().plot.bar()\n",
        "\n",
        "val_0 = len(val_data['label']) - sum(map(int, val_data['label']))\n",
        "val_1 = sum(map(int, val_data['label']))\n",
        "print(\"Val: ratio of class 0 to class 1: {0}:1\".format(round(val_0/val_1,2)))"
      ],
      "metadata": {
        "colab": {
          "base_uri": "https://localhost:8080/",
          "height": 279
        },
        "id": "eFz9KvKGA7KL",
        "outputId": "69380d01-6121-4437-8081-2b71cc313995"
      },
      "execution_count": null,
      "outputs": [
        {
          "output_type": "stream",
          "name": "stdout",
          "text": [
            "Val: ratio of class 0 to class 1: 1.59:1\n"
          ]
        },
        {
          "output_type": "display_data",
          "data": {
            "text/plain": [
              "<Figure size 432x288 with 1 Axes>"
            ],
            "image/png": "[encoded data removed]"
          },
          "metadata": {
            "needs_background": "light"
          }
        }
      ]
    },
    {
      "cell_type": "code",
      "source": [
        "test_data['label'].value_counts().plot.bar()\n",
        "\n",
        "test_0 = len(test_data['label']) - sum(map(int, test_data['label']))\n",
        "test_1 = sum(map(int, test_data['label']))\n",
        "print(\"Test: ratio of class 0 to class 1: {0}:1\".format(round(test_0/test_1,2)))"
      ],
      "metadata": {
        "colab": {
          "base_uri": "https://localhost:8080/",
          "height": 279
        },
        "id": "2auQjps3A7G8",
        "outputId": "f99dd86b-43ce-434b-a105-47c47c3945fe"
      },
      "execution_count": null,
      "outputs": [
        {
          "output_type": "stream",
          "name": "stdout",
          "text": [
            "Test: ratio of class 0 to class 1: 1.5:1\n"
          ]
        },
        {
          "output_type": "display_data",
          "data": {
            "text/plain": [
              "<Figure size 432x288 with 1 Axes>"
            ],
            "image/png": "[encoded data removed]"
          },
          "metadata": {
            "needs_background": "light"
          }
        }
      ]
    },
    {
      "cell_type": "markdown",
      "source": [
        "#### TRAINING GENERATORS"
      ],
      "metadata": {
        "id": "mf-5F2l5BHhh"
      }
    },
    {
      "cell_type": "code",
      "source": [
        "train_datagen = image.ImageDataGenerator(\n",
        "    rescale = 1./255\n",
        ")\n",
        "\n",
        "val_datagen = image.ImageDataGenerator(\n",
        "    rescale = 1./255\n",
        ")\n",
        "\n",
        "test_datagen = image.ImageDataGenerator(\n",
        "    rescale = 1./255\n",
        ")"
      ],
      "metadata": {
        "id": "VDlnMC3G9-qZ"
      },
      "execution_count": null,
      "outputs": []
    },
    {
      "cell_type": "code",
      "source": [
        "train_generator = train_datagen.flow_from_dataframe(\n",
        "    train_data, \n",
        "    x_col = 'filename',\n",
        "    y_col = 'label',\n",
        "    target_size = (IMG_HEIGHT, IMG_WIDTH), \n",
        "    color_mode = 'grayscale',\n",
        "    batch_size = BATCH_SIZE,\n",
        "    class_mode = 'binary'\n",
        ")\n",
        "\n",
        "val_generator = val_datagen.flow_from_dataframe(\n",
        "    val_data, \n",
        "    x_col = 'filename',\n",
        "    y_col = 'label',\n",
        "    target_size = (IMG_HEIGHT, IMG_WIDTH), \n",
        "    color_mode = 'grayscale',\n",
        "    batch_size = BATCH_SIZE,\n",
        "    class_mode = 'binary'\n",
        ")\n",
        "\n",
        "test_generator = test_datagen.flow_from_dataframe(\n",
        "    test_data, \n",
        "    x_col = 'filename',\n",
        "    y_col = 'label',\n",
        "    target_size = (IMG_HEIGHT, IMG_WIDTH), \n",
        "    color_mode = 'grayscale',\n",
        "    batch_size = BATCH_SIZE,\n",
        "    class_mode = 'binary'\n",
        ")"
      ],
      "metadata": {
        "colab": {
          "base_uri": "https://localhost:8080/"
        },
        "id": "zo-WxXHbA7Er",
        "outputId": "f2af584e-cb67-483f-da2d-d22916b3328f"
      },
      "execution_count": null,
      "outputs": [
        {
          "output_type": "stream",
          "name": "stdout",
          "text": [
            "Found 222 validated image filenames belonging to 2 classes.\n",
            "Found 44 validated image filenames belonging to 2 classes.\n",
            "Found 30 validated image filenames belonging to 2 classes.\n"
          ]
        }
      ]
    },
    {
      "cell_type": "markdown",
      "source": [
        "#### CREATE AND TRIAN MODEL"
      ],
      "metadata": {
        "id": "RMdhwXtNBOG5"
      }
    },
    {
      "cell_type": "code",
      "source": [
        "model = createModel()\n",
        "model.summary()"
      ],
      "metadata": {
        "colab": {
          "base_uri": "https://localhost:8080/"
        },
        "id": "EYAyTvAAA7Cc",
        "outputId": "dab41ce4-f0e9-4edf-8dbb-b50b00826423"
      },
      "execution_count": null,
      "outputs": [
        {
          "output_type": "stream",
          "name": "stdout",
          "text": [
            "Model: \"sequential_12\"\n",
            "_________________________________________________________________\n",
            " Layer (type)                Output Shape              Param #   \n",
            "=================================================================\n",
            " conv2d_60 (Conv2D)          (None, 348, 348, 16)      160       \n",
            "                                                                 \n",
            " batch_normalization_60 (Bat  (None, 348, 348, 16)     64        \n",
            " chNormalization)                                                \n",
            "                                                                 \n",
            " max_pooling2d_60 (MaxPoolin  (None, 174, 174, 16)     0         \n",
            " g2D)                                                            \n",
            "                                                                 \n",
            " conv2d_61 (Conv2D)          (None, 172, 172, 32)      4640      \n",
            "                                                                 \n",
            " batch_normalization_61 (Bat  (None, 172, 172, 32)     128       \n",
            " chNormalization)                                                \n",
            "                                                                 \n",
            " max_pooling2d_61 (MaxPoolin  (None, 86, 86, 32)       0         \n",
            " g2D)                                                            \n",
            "                                                                 \n",
            " conv2d_62 (Conv2D)          (None, 84, 84, 32)        9248      \n",
            "                                                                 \n",
            " batch_normalization_62 (Bat  (None, 84, 84, 32)       128       \n",
            " chNormalization)                                                \n",
            "                                                                 \n",
            " max_pooling2d_62 (MaxPoolin  (None, 42, 42, 32)       0         \n",
            " g2D)                                                            \n",
            "                                                                 \n",
            " conv2d_63 (Conv2D)          (None, 40, 40, 64)        18496     \n",
            "                                                                 \n",
            " batch_normalization_63 (Bat  (None, 40, 40, 64)       256       \n",
            " chNormalization)                                                \n",
            "                                                                 \n",
            " max_pooling2d_63 (MaxPoolin  (None, 20, 20, 64)       0         \n",
            " g2D)                                                            \n",
            "                                                                 \n",
            " conv2d_64 (Conv2D)          (None, 18, 18, 64)        36928     \n",
            "                                                                 \n",
            " batch_normalization_64 (Bat  (None, 18, 18, 64)       256       \n",
            " chNormalization)                                                \n",
            "                                                                 \n",
            " max_pooling2d_64 (MaxPoolin  (None, 9, 9, 64)         0         \n",
            " g2D)                                                            \n",
            "                                                                 \n",
            " flatten_12 (Flatten)        (None, 5184)              0         \n",
            "                                                                 \n",
            " dense_24 (Dense)            (None, 400)               2074000   \n",
            "                                                                 \n",
            " dropout_17 (Dropout)        (None, 400)               0         \n",
            "                                                                 \n",
            " dense_25 (Dense)            (None, 1)                 401       \n",
            "                                                                 \n",
            "=================================================================\n",
            "Total params: 2,144,705\n",
            "Trainable params: 2,144,289\n",
            "Non-trainable params: 416\n",
            "_________________________________________________________________\n"
          ]
        }
      ]
    },
    {
      "cell_type": "code",
      "source": [
        "history = model.fit(\n",
        "    train_generator,\n",
        "    steps_per_epoch = len(train_data) // BATCH_SIZE,\n",
        "    epochs = 50,\n",
        "    class_weight = {0:1, 1:1.5},\n",
        "    validation_data = val_generator\n",
        "    )"
      ],
      "metadata": {
        "colab": {
          "base_uri": "https://localhost:8080/"
        },
        "id": "ulH_qiJ1A693",
        "outputId": "615150c6-4b52-41b3-c0ac-f79e1554f747"
      },
      "execution_count": null,
      "outputs": [
        {
          "output_type": "stream",
          "name": "stdout",
          "text": [
            "Epoch 1/50\n",
            "6/6 [==============================] - 31s 5s/step - loss: 2.6518 - accuracy: 0.5421 - val_loss: 0.9290 - val_accuracy: 0.3864\n",
            "Epoch 2/50\n",
            "6/6 [==============================] - 29s 5s/step - loss: 1.6563 - accuracy: 0.6368 - val_loss: 1.6931 - val_accuracy: 0.3864\n",
            "Epoch 3/50\n",
            "6/6 [==============================] - 29s 5s/step - loss: 1.0245 - accuracy: 0.7263 - val_loss: 2.6068 - val_accuracy: 0.3864\n",
            "Epoch 4/50\n",
            "6/6 [==============================] - 29s 5s/step - loss: 0.7527 - accuracy: 0.7684 - val_loss: 3.5924 - val_accuracy: 0.3864\n",
            "Epoch 5/50\n",
            "6/6 [==============================] - 29s 5s/step - loss: 0.4544 - accuracy: 0.8211 - val_loss: 4.5662 - val_accuracy: 0.3864\n",
            "Epoch 6/50\n",
            "6/6 [==============================] - 29s 5s/step - loss: 0.2870 - accuracy: 0.8895 - val_loss: 5.4699 - val_accuracy: 0.3864\n",
            "Epoch 7/50\n",
            "6/6 [==============================] - 29s 5s/step - loss: 0.3482 - accuracy: 0.8698 - val_loss: 6.4535 - val_accuracy: 0.3864\n",
            "Epoch 8/50\n",
            "6/6 [==============================] - 29s 5s/step - loss: 0.3280 - accuracy: 0.8842 - val_loss: 7.2666 - val_accuracy: 0.3864\n",
            "Epoch 9/50\n",
            "6/6 [==============================] - 29s 5s/step - loss: 0.1360 - accuracy: 0.9474 - val_loss: 7.3891 - val_accuracy: 0.3864\n",
            "Epoch 10/50\n",
            "6/6 [==============================] - 29s 5s/step - loss: 0.2066 - accuracy: 0.9684 - val_loss: 7.4040 - val_accuracy: 0.3864\n",
            "Epoch 11/50\n",
            "6/6 [==============================] - 31s 5s/step - loss: 0.0778 - accuracy: 0.9792 - val_loss: 8.0152 - val_accuracy: 0.3864\n",
            "Epoch 12/50\n",
            "6/6 [==============================] - 29s 5s/step - loss: 0.0696 - accuracy: 0.9842 - val_loss: 8.6324 - val_accuracy: 0.3864\n",
            "Epoch 13/50\n",
            "6/6 [==============================] - 29s 5s/step - loss: 0.0489 - accuracy: 0.9895 - val_loss: 8.9625 - val_accuracy: 0.3864\n",
            "Epoch 14/50\n",
            "6/6 [==============================] - 29s 5s/step - loss: 0.0449 - accuracy: 0.9895 - val_loss: 9.2586 - val_accuracy: 0.3864\n",
            "Epoch 15/50\n",
            "6/6 [==============================] - 29s 5s/step - loss: 0.0368 - accuracy: 0.9947 - val_loss: 9.4598 - val_accuracy: 0.3864\n",
            "Epoch 16/50\n",
            "6/6 [==============================] - 29s 5s/step - loss: 0.0256 - accuracy: 0.9947 - val_loss: 9.6549 - val_accuracy: 0.3864\n",
            "Epoch 17/50\n",
            "6/6 [==============================] - 29s 5s/step - loss: 0.0168 - accuracy: 1.0000 - val_loss: 9.7974 - val_accuracy: 0.3864\n",
            "Epoch 18/50\n",
            "6/6 [==============================] - 29s 5s/step - loss: 0.0094 - accuracy: 1.0000 - val_loss: 10.0149 - val_accuracy: 0.3864\n",
            "Epoch 19/50\n",
            "6/6 [==============================] - 29s 5s/step - loss: 0.0062 - accuracy: 1.0000 - val_loss: 10.2335 - val_accuracy: 0.3864\n",
            "Epoch 20/50\n",
            "6/6 [==============================] - 29s 5s/step - loss: 0.0096 - accuracy: 1.0000 - val_loss: 10.3995 - val_accuracy: 0.3864\n",
            "Epoch 21/50\n",
            "6/6 [==============================] - 29s 5s/step - loss: 0.0031 - accuracy: 1.0000 - val_loss: 10.6652 - val_accuracy: 0.3864\n",
            "Epoch 22/50\n",
            "6/6 [==============================] - 29s 5s/step - loss: 0.0148 - accuracy: 1.0000 - val_loss: 11.0328 - val_accuracy: 0.3864\n",
            "Epoch 23/50\n",
            "6/6 [==============================] - 29s 5s/step - loss: 0.0058 - accuracy: 1.0000 - val_loss: 11.4970 - val_accuracy: 0.3864\n",
            "Epoch 24/50\n",
            "6/6 [==============================] - 29s 5s/step - loss: 0.0100 - accuracy: 1.0000 - val_loss: 11.7350 - val_accuracy: 0.3864\n",
            "Epoch 25/50\n",
            "6/6 [==============================] - 29s 5s/step - loss: 0.0068 - accuracy: 1.0000 - val_loss: 11.7935 - val_accuracy: 0.3864\n",
            "Epoch 26/50\n",
            "6/6 [==============================] - 29s 5s/step - loss: 0.0044 - accuracy: 1.0000 - val_loss: 11.9425 - val_accuracy: 0.3864\n",
            "Epoch 27/50\n",
            "6/6 [==============================] - 29s 5s/step - loss: 0.0027 - accuracy: 1.0000 - val_loss: 12.0157 - val_accuracy: 0.3864\n",
            "Epoch 28/50\n",
            "6/6 [==============================] - 29s 5s/step - loss: 0.0040 - accuracy: 1.0000 - val_loss: 12.0302 - val_accuracy: 0.3864\n",
            "Epoch 29/50\n",
            "6/6 [==============================] - 29s 5s/step - loss: 0.0020 - accuracy: 1.0000 - val_loss: 12.0331 - val_accuracy: 0.3864\n",
            "Epoch 30/50\n",
            "6/6 [==============================] - 29s 5s/step - loss: 0.0024 - accuracy: 1.0000 - val_loss: 11.9702 - val_accuracy: 0.3864\n",
            "Epoch 31/50\n",
            "6/6 [==============================] - 29s 5s/step - loss: 0.0035 - accuracy: 1.0000 - val_loss: 12.0208 - val_accuracy: 0.3864\n",
            "Epoch 32/50\n",
            "6/6 [==============================] - 29s 5s/step - loss: 0.0037 - accuracy: 1.0000 - val_loss: 12.1167 - val_accuracy: 0.3864\n",
            "Epoch 33/50\n",
            "6/6 [==============================] - 29s 5s/step - loss: 0.0011 - accuracy: 1.0000 - val_loss: 12.0729 - val_accuracy: 0.3864\n",
            "Epoch 34/50\n",
            "6/6 [==============================] - 29s 5s/step - loss: 0.0024 - accuracy: 1.0000 - val_loss: 11.8234 - val_accuracy: 0.3864\n",
            "Epoch 35/50\n",
            "6/6 [==============================] - 29s 5s/step - loss: 9.9832e-04 - accuracy: 1.0000 - val_loss: 11.6368 - val_accuracy: 0.3864\n",
            "Epoch 36/50\n",
            "6/6 [==============================] - 29s 5s/step - loss: 0.0015 - accuracy: 1.0000 - val_loss: 11.4761 - val_accuracy: 0.3864\n",
            "Epoch 37/50\n",
            "6/6 [==============================] - 29s 5s/step - loss: 5.4898e-04 - accuracy: 1.0000 - val_loss: 11.3050 - val_accuracy: 0.3864\n",
            "Epoch 38/50\n",
            "6/6 [==============================] - 29s 5s/step - loss: 8.6188e-04 - accuracy: 1.0000 - val_loss: 11.1397 - val_accuracy: 0.3864\n",
            "Epoch 39/50\n",
            "6/6 [==============================] - 29s 5s/step - loss: 8.8602e-04 - accuracy: 1.0000 - val_loss: 11.0387 - val_accuracy: 0.3864\n",
            "Epoch 40/50\n",
            "6/6 [==============================] - 29s 5s/step - loss: 0.0021 - accuracy: 1.0000 - val_loss: 10.8722 - val_accuracy: 0.3864\n",
            "Epoch 41/50\n",
            "6/6 [==============================] - 29s 5s/step - loss: 0.0014 - accuracy: 1.0000 - val_loss: 10.8014 - val_accuracy: 0.3864\n",
            "Epoch 42/50\n",
            "6/6 [==============================] - 29s 5s/step - loss: 0.0016 - accuracy: 1.0000 - val_loss: 10.8064 - val_accuracy: 0.3864\n",
            "Epoch 43/50\n",
            "6/6 [==============================] - 29s 5s/step - loss: 6.6094e-04 - accuracy: 1.0000 - val_loss: 10.7389 - val_accuracy: 0.3864\n",
            "Epoch 44/50\n",
            "6/6 [==============================] - 29s 5s/step - loss: 7.8653e-04 - accuracy: 1.0000 - val_loss: 10.6290 - val_accuracy: 0.3864\n",
            "Epoch 45/50\n",
            "6/6 [==============================] - 29s 5s/step - loss: 9.7651e-04 - accuracy: 1.0000 - val_loss: 10.4856 - val_accuracy: 0.3864\n",
            "Epoch 46/50\n",
            "6/6 [==============================] - 29s 5s/step - loss: 0.0023 - accuracy: 1.0000 - val_loss: 10.4140 - val_accuracy: 0.3864\n",
            "Epoch 47/50\n",
            "6/6 [==============================] - 29s 5s/step - loss: 5.4838e-04 - accuracy: 1.0000 - val_loss: 10.5163 - val_accuracy: 0.3864\n",
            "Epoch 48/50\n",
            "6/6 [==============================] - 29s 5s/step - loss: 5.0610e-04 - accuracy: 1.0000 - val_loss: 10.5162 - val_accuracy: 0.3864\n",
            "Epoch 49/50\n",
            "6/6 [==============================] - 29s 5s/step - loss: 4.1700e-04 - accuracy: 1.0000 - val_loss: 10.4597 - val_accuracy: 0.3864\n",
            "Epoch 50/50\n",
            "6/6 [==============================] - 29s 5s/step - loss: 5.7351e-04 - accuracy: 1.0000 - val_loss: 10.4257 - val_accuracy: 0.3864\n"
          ]
        }
      ]
    },
    {
      "cell_type": "markdown",
      "source": [
        "#### EVALUATE MODEL"
      ],
      "metadata": {
        "id": "fMcV1v7aBVuM"
      }
    },
    {
      "cell_type": "code",
      "source": [
        "loss, acc = model.evaluate(train_generator)\n",
        "print(\"Model, training accuracy: {:5.2f}%\".format(100 * acc))\n",
        "loss, acc = model.evaluate(val_generator)\n",
        "print(\"Model, validation accuracy: {:5.2f}%\".format(100 * acc))\n",
        "loss, acc = model.evaluate(test_generator)\n",
        "print(\"Model, testing accuracy: {:5.2f}%\".format(100 * acc))"
      ],
      "metadata": {
        "colab": {
          "base_uri": "https://localhost:8080/"
        },
        "id": "O5LeTj3jA67I",
        "outputId": "5a965d9b-10ec-4b24-923f-ef5731250187"
      },
      "execution_count": null,
      "outputs": [
        {
          "output_type": "stream",
          "name": "stdout",
          "text": [
            "7/7 [==============================] - 9s 1s/step - loss: 10.1033 - accuracy: 0.3829\n",
            "Model, training accuracy: 38.29%\n",
            "2/2 [==============================] - 2s 369ms/step - loss: 10.4257 - accuracy: 0.3864\n",
            "Model, validation accuracy: 38.64%\n",
            "1/1 [==============================] - 1s 1s/step - loss: 10.1707 - accuracy: 0.4000\n",
            "Model, testing accuracy: 40.00%\n"
          ]
        }
      ]
    },
    {
      "cell_type": "code",
      "source": [
        "plt.plot(history.history['accuracy'], label='accuracy')\n",
        "plt.plot(history.history['val_accuracy'], label = 'val_accuracy')\n",
        "plt.xlabel('Epoch')\n",
        "plt.ylabel('Accuracy')\n",
        "plt.ylim([0, 1])\n",
        "plt.legend(loc='lower right')"
      ],
      "metadata": {
        "colab": {
          "base_uri": "https://localhost:8080/",
          "height": 300
        },
        "id": "fY9gD-uiA602",
        "outputId": "eeb2baf9-554d-4e71-8ed5-10d9a0493163"
      },
      "execution_count": null,
      "outputs": [
        {
          "output_type": "execute_result",
          "data": {
            "text/plain": [
              "<matplotlib.legend.Legend at 0x7fafd98606d0>"
            ]
          },
          "metadata": {},
          "execution_count": 202
        },
        {
          "output_type": "display_data",
          "data": {
            "text/plain": [
              "<Figure size 432x288 with 1 Axes>"
            ],
            "image/png": "[encoded data removed]"
          },
          "metadata": {
            "needs_background": "light"
          }
        }
      ]
    },
    {
      "cell_type": "code",
      "source": [
        "plt.plot(history.history['loss'], label='loss')\n",
        "plt.plot(history.history['val_loss'], label = 'val_loss')\n",
        "plt.xlabel('Epoch')\n",
        "plt.ylabel('Loss')\n",
        "plt.ylim([0, 10])\n",
        "plt.legend(loc='lower right')"
      ],
      "metadata": {
        "colab": {
          "base_uri": "https://localhost:8080/",
          "height": 300
        },
        "id": "qldBHt_2A6r2",
        "outputId": "c0148c88-52f2-46de-bbdd-6e2acd9f2afd"
      },
      "execution_count": null,
      "outputs": [
        {
          "output_type": "execute_result",
          "data": {
            "text/plain": [
              "<matplotlib.legend.Legend at 0x7fafd9864750>"
            ]
          },
          "metadata": {},
          "execution_count": 203
        },
        {
          "output_type": "display_data",
          "data": {
            "text/plain": [
              "<Figure size 432x288 with 1 Axes>"
            ],
            "image/png": "[encoded data removed]"
          },
          "metadata": {
            "needs_background": "light"
          }
        }
      ]
    },
    {
      "cell_type": "markdown",
      "source": [
        "#### MAKE PREDICTIONS"
      ],
      "metadata": {
        "id": "5w2BoZIIBctH"
      }
    },
    {
      "cell_type": "code",
      "source": [
        "predictions = model.predict(test_generator)"
      ],
      "metadata": {
        "id": "MgNHCOVKBfUr"
      },
      "execution_count": null,
      "outputs": []
    },
    {
      "cell_type": "code",
      "source": [
        "preds = np.where(predictions > 0.5, 1, 0)\n",
        "cm = confusion_matrix(test_generator.classes, preds)\n",
        "tn, fp, fn, tp = cm[0][0], cm[0][1], cm[1][0], cm[1][1]\n",
        "tpr = tp / (tp + fn)\n",
        "tnr = tn / (tn + fp)\n",
        "ppv = tp / (tp + fp)\n",
        "npv = tn / (tn + fn)\n",
        "f1 = 2 * ((ppv * tpr) / (ppv + tpr))\n",
        "\n",
        "print(\"Recall/Sensitivity/True positive rate: {:.3f}\".format(tpr))\n",
        "print(\"Specificity/selectivity/True negative rate: {:.3f}\".format(tnr))\n",
        "print(\"Precision/Positive predictive value: {:.3f}\".format(ppv))\n",
        "print(\"Negative predictive value: {:.3f}\".format(npv))\n",
        "print(\"F1 score: {:.3f}\".format(f1))\n",
        "\n",
        "disp = ConfusionMatrixDisplay(confusion_matrix=cm, display_labels=list(np.unique(test_generator.classes)))\n",
        "disp.plot()\n",
        "disp.ax_.set(\n",
        "                title='Confusion Matrix', \n",
        "                xlabel='Predicted Outcome', \n",
        "                ylabel='Actual Outcome')\n",
        "plt.show()\n",
        "\n",
        "RocCurveDisplay.from_predictions(test_generator.classes, preds)"
      ],
      "metadata": {
        "colab": {
          "base_uri": "https://localhost:8080/",
          "height": 696
        },
        "id": "eFNoW0UeBfQU",
        "outputId": "d3b76d29-bac2-4703-f21f-fda9e9915a12"
      },
      "execution_count": null,
      "outputs": [
        {
          "output_type": "stream",
          "name": "stdout",
          "text": [
            "Recall/Sensitivity/True positive rate: 1.000\n",
            "Specificity/selectivity/True negative rate: 0.000\n",
            "Precision/Positive predictive value: 0.400\n",
            "Negative predictive value: nan\n",
            "F1 score: 0.571\n"
          ]
        },
        {
          "output_type": "stream",
          "name": "stderr",
          "text": [
            "/usr/local/lib/python3.7/dist-packages/ipykernel_launcher.py:7: RuntimeWarning: invalid value encountered in long_scalars\n",
            "  import sys\n"
          ]
        },
        {
          "output_type": "display_data",
          "data": {
            "text/plain": [
              "<Figure size 432x288 with 2 Axes>"
            ],
            "image/png": "[encoded data removed]"
          },
          "metadata": {
            "needs_background": "light"
          }
        },
        {
          "output_type": "execute_result",
          "data": {
            "text/plain": [
              "<sklearn.metrics._plot.roc_curve.RocCurveDisplay at 0x7fafd97b4710>"
            ]
          },
          "metadata": {},
          "execution_count": 205
        },
        {
          "output_type": "display_data",
          "data": {
            "text/plain": [
              "<Figure size 432x288 with 1 Axes>"
            ],
            "image/png": "[encoded data removed]"
          },
          "metadata": {
            "needs_background": "light"
          }
        }
      ]
    },
    {
      "cell_type": "markdown",
      "source": [
        "#### SAVE MODEL"
      ],
      "metadata": {
        "id": "0qMyDoCoBmGk"
      }
    },
    {
      "cell_type": "code",
      "source": [
        "model.save_weights(\"/content/drive/MyDrive/cisc499/checkpoints/left_images_original/\")"
      ],
      "metadata": {
        "id": "BSlCEVbMBfMr"
      },
      "execution_count": null,
      "outputs": []
    },
    {
      "cell_type": "code",
      "source": [
        ""
      ],
      "metadata": {
        "id": "Gs937CC3BfFd"
      },
      "execution_count": null,
      "outputs": []
    },
    {
      "cell_type": "code",
      "source": [
        ""
      ],
      "metadata": {
        "id": "MZvONMURBemj"
      },
      "execution_count": null,
      "outputs": []
    }
  ],
  "metadata": {
    "colab": {
      "name": "cnn_ultrasound_classification.ipynb",
      "provenance": [],
      "collapsed_sections": [],
      "toc_visible": true
    },
    "kernelspec": {
      "display_name": "Python 3",
      "name": "python3"
    },
    "language_info": {
      "name": "python"
    }
  },
  "nbformat": 4,
  "nbformat_minor": 0
}