{
 "cells": [
  {
   "cell_type": "code",
   "execution_count": 1,
   "id": "13645df0",
   "metadata": {},
   "outputs": [],
   "source": [
    "# Imports\n",
    "import win32com.client\n",
    "import numpy as np\n",
    "import tensorflow\n",
    "import matplotlib.pyplot as plt\n",
    "import pandas as pd\n",
    "import os\n",
    "import re\n",
    "from tensorflow.keras.models import Sequential\n",
    "from tensorflow.keras.layers import Dense\n",
    "from tensorflow.keras.utils import to_categorical\n",
    "from sklearn.metrics import confusion_matrix, ConfusionMatrixDisplay\n",
    "from sklearn.metrics import roc_curve, auc"
   ]
  },
  {
   "cell_type": "code",
   "execution_count": 2,
   "id": "e839d89f",
   "metadata": {},
   "outputs": [],
   "source": [
    "# Variables that can be changed based on user settings\n",
    "excelPath = \"C:/Queen's/CISC 499/Data/CarotidData-Ver3.xlsx\"\n",
    "dataPath = \"C:/Queen's/CISC 499/Data/train_val_test set.xlsx\"\n",
    "passwd = \"2018carotid\"\n",
    "num_classes = 2 # Number of different labels"
   ]
  },
  {
   "cell_type": "code",
   "execution_count": 3,
   "id": "0d2b6f9b",
   "metadata": {},
   "outputs": [
    {
     "name": "stdout",
     "output_type": "stream",
     "text": [
      "Data loaded\n"
     ]
    }
   ],
   "source": [
    "# Load carotid data\n",
    "carotid_data = pd.read_excel(excelPath, skipfooter=7, usecols=\"A,B,D,G,H,I,J,M,N,O,P,Q,R,S,T,U,V,W,X,Y,AA,AD,AE,AF,AG,AH,AI,AJ,AK,AL,AM,AY,AZ,BA,BB,BC,BD,BE,BF,BG,BH,BI,BJ,BK,BL,BM,BN,BO,BQ,BR\")\n",
    "\n",
    "# Load training data and labels\n",
    "train_id = pd.read_excel(dataPath, sheet_name=0, usecols=\"A\")\n",
    "train_label = pd.read_excel(dataPath, sheet_name=0, usecols=\"B\")\n",
    "train_data = []\n",
    "# Match the id's to the correct data rows\n",
    "for i,row in train_id.iterrows():\n",
    "    study_id = re.findall('\\d+', row[\"filename\"])[0]\n",
    "    data = carotid_data.loc[carotid_data['Study ID #'] == int(study_id)]\n",
    "    train_data.append(data.values.tolist()[0][1:]) # Only takes the data columns i.e. not the study ID\n",
    "# Convert binary values F/M or YES/NO to 1/0\n",
    "for i, row in enumerate(train_data):\n",
    "    for j, cell in enumerate(row):\n",
    "        if cell == 'F' or cell == 'YES' or cell == 'Y':\n",
    "            train_data[i][j] = 1\n",
    "        elif cell == 'M' or cell == 'NO' or cell == 'N':\n",
    "            train_data[i][j] = 0\n",
    "        elif cell == 'UNKNOWN':\n",
    "            train_data[i][j] = 2\n",
    "\n",
    "# Load validation data and labels\n",
    "validation_id = pd.read_excel(dataPath, sheet_name=1, usecols=\"A\")\n",
    "validation_label = pd.read_excel(dataPath, sheet_name=1, usecols=\"B\")\n",
    "validation_data = []\n",
    "# Match the id's to the correct data rows\n",
    "for i,row in validation_id.iterrows():\n",
    "    study_id = re.findall('\\d+', row[\"filename\"])[0]\n",
    "    data = carotid_data.loc[carotid_data['Study ID #'] == int(study_id)]\n",
    "    validation_data.append(data.values.tolist()[0][1:]) # Only takes the data columns i.e. not the study ID\n",
    "# Convert binary values F/M or YES/NO to 1/0\n",
    "for i, row in enumerate(validation_data):\n",
    "    for j, cell in enumerate(row):\n",
    "        if cell == 'F' or cell == 'YES' or cell == 'Y':\n",
    "            validation_data[i][j] = 1\n",
    "        elif cell == 'M' or cell == 'NO' or cell == 'N':\n",
    "            validation_data[i][j] = 0\n",
    "        elif cell == 'UNKNOWN':\n",
    "            validation_data[i][j] = 2    \n",
    "    \n",
    "# Load test data and labels\n",
    "test_id = pd.read_excel(dataPath, sheet_name=2, usecols=\"A\")\n",
    "test_label = pd.read_excel(dataPath, sheet_name=2, usecols=\"B\")\n",
    "test_data = []\n",
    "# Match the id's to the correct data rows\n",
    "for i,row in test_id.iterrows():\n",
    "    study_id = re.findall('\\d+', row[\"filename\"])[0]\n",
    "    data = carotid_data.loc[carotid_data['Study ID #'] == int(study_id)]\n",
    "    test_data.append(data.values.tolist()[0][1:]) # Only takes the data columns i.e. not the study ID\n",
    "# Convert binary values F/M or YES/NO to 1/0\n",
    "for i, row in enumerate(test_data):\n",
    "    for j, cell in enumerate(row):\n",
    "        if cell == 'F' or cell == 'YES' or cell == 'Y':\n",
    "            test_data[i][j] = 1\n",
    "        elif cell == 'M' or cell == 'NO' or cell == 'N':\n",
    "            test_data[i][j] = 0\n",
    "        elif cell == 'UNKNOWN':\n",
    "            test_data[i][j] = 2\n",
    "\n",
    "print(\"Data loaded\")"
   ]
  },
  {
   "cell_type": "code",
   "execution_count": 12,
   "id": "90a023f7",
   "metadata": {},
   "outputs": [
    {
     "name": "stderr",
     "output_type": "stream",
     "text": [
      "C:\\Users\\fokxd\\anaconda3\\lib\\site-packages\\sklearn\\utils\\validation.py:993: DataConversionWarning: A column-vector y was passed when a 1d array was expected. Please change the shape of y to (n_samples, ), for example using ravel().\n",
      "  y = column_or_1d(y, warn=True)\n"
     ]
    },
    {
     "name": "stdout",
     "output_type": "stream",
     "text": [
      "Accuracy of SVM classifier = 23210.5 %\n"
     ]
    },
    {
     "ename": "ValueError",
     "evalue": "Unable to coerce to Series, length must be 1: given 49",
     "output_type": "error",
     "traceback": [
      "\u001b[1;31m---------------------------------------------------------------------------\u001b[0m",
      "\u001b[1;31mValueError\u001b[0m                                Traceback (most recent call last)",
      "\u001b[1;32m~\\AppData\\Local\\Temp/ipykernel_26708/3790969891.py\u001b[0m in \u001b[0;36m<module>\u001b[1;34m\u001b[0m\n\u001b[0;32m     19\u001b[0m \u001b[1;33m\u001b[0m\u001b[0m\n\u001b[0;32m     20\u001b[0m \u001b[1;31m# Compute accuracy\u001b[0m\u001b[1;33m\u001b[0m\u001b[1;33m\u001b[0m\u001b[0m\n\u001b[1;32m---> 21\u001b[1;33m \u001b[0maccuracy\u001b[0m \u001b[1;33m=\u001b[0m \u001b[1;36m100.0\u001b[0m \u001b[1;33m*\u001b[0m \u001b[1;33m(\u001b[0m\u001b[0mtest_label\u001b[0m \u001b[1;33m==\u001b[0m \u001b[0my_pred\u001b[0m\u001b[1;33m)\u001b[0m\u001b[1;33m.\u001b[0m\u001b[0msum\u001b[0m\u001b[1;33m(\u001b[0m\u001b[1;33m)\u001b[0m \u001b[1;33m/\u001b[0m \u001b[0mlen\u001b[0m\u001b[1;33m(\u001b[0m\u001b[0mtest_label\u001b[0m\u001b[1;33m)\u001b[0m\u001b[1;33m\u001b[0m\u001b[1;33m\u001b[0m\u001b[0m\n\u001b[0m\u001b[0;32m     22\u001b[0m \u001b[0mprint\u001b[0m\u001b[1;33m(\u001b[0m\u001b[1;34m\"Accuracy of SVM classifier =\"\u001b[0m\u001b[1;33m,\u001b[0m \u001b[0mround\u001b[0m\u001b[1;33m(\u001b[0m\u001b[0maccuracy\u001b[0m\u001b[1;33m,\u001b[0m \u001b[1;36m2\u001b[0m\u001b[1;33m)\u001b[0m\u001b[1;33m,\u001b[0m \u001b[1;34m\"%\"\u001b[0m\u001b[1;33m)\u001b[0m\u001b[1;33m\u001b[0m\u001b[1;33m\u001b[0m\u001b[0m\n",
      "\u001b[1;32m~\\anaconda3\\lib\\site-packages\\pandas\\core\\ops\\common.py\u001b[0m in \u001b[0;36mnew_method\u001b[1;34m(self, other)\u001b[0m\n\u001b[0;32m     67\u001b[0m         \u001b[0mother\u001b[0m \u001b[1;33m=\u001b[0m \u001b[0mitem_from_zerodim\u001b[0m\u001b[1;33m(\u001b[0m\u001b[0mother\u001b[0m\u001b[1;33m)\u001b[0m\u001b[1;33m\u001b[0m\u001b[1;33m\u001b[0m\u001b[0m\n\u001b[0;32m     68\u001b[0m \u001b[1;33m\u001b[0m\u001b[0m\n\u001b[1;32m---> 69\u001b[1;33m         \u001b[1;32mreturn\u001b[0m \u001b[0mmethod\u001b[0m\u001b[1;33m(\u001b[0m\u001b[0mself\u001b[0m\u001b[1;33m,\u001b[0m \u001b[0mother\u001b[0m\u001b[1;33m)\u001b[0m\u001b[1;33m\u001b[0m\u001b[1;33m\u001b[0m\u001b[0m\n\u001b[0m\u001b[0;32m     70\u001b[0m \u001b[1;33m\u001b[0m\u001b[0m\n\u001b[0;32m     71\u001b[0m     \u001b[1;32mreturn\u001b[0m \u001b[0mnew_method\u001b[0m\u001b[1;33m\u001b[0m\u001b[1;33m\u001b[0m\u001b[0m\n",
      "\u001b[1;32m~\\anaconda3\\lib\\site-packages\\pandas\\core\\arraylike.py\u001b[0m in \u001b[0;36m__eq__\u001b[1;34m(self, other)\u001b[0m\n\u001b[0;32m     30\u001b[0m     \u001b[1;33m@\u001b[0m\u001b[0munpack_zerodim_and_defer\u001b[0m\u001b[1;33m(\u001b[0m\u001b[1;34m\"__eq__\"\u001b[0m\u001b[1;33m)\u001b[0m\u001b[1;33m\u001b[0m\u001b[1;33m\u001b[0m\u001b[0m\n\u001b[0;32m     31\u001b[0m     \u001b[1;32mdef\u001b[0m \u001b[0m__eq__\u001b[0m\u001b[1;33m(\u001b[0m\u001b[0mself\u001b[0m\u001b[1;33m,\u001b[0m \u001b[0mother\u001b[0m\u001b[1;33m)\u001b[0m\u001b[1;33m:\u001b[0m\u001b[1;33m\u001b[0m\u001b[1;33m\u001b[0m\u001b[0m\n\u001b[1;32m---> 32\u001b[1;33m         \u001b[1;32mreturn\u001b[0m \u001b[0mself\u001b[0m\u001b[1;33m.\u001b[0m\u001b[0m_cmp_method\u001b[0m\u001b[1;33m(\u001b[0m\u001b[0mother\u001b[0m\u001b[1;33m,\u001b[0m \u001b[0moperator\u001b[0m\u001b[1;33m.\u001b[0m\u001b[0meq\u001b[0m\u001b[1;33m)\u001b[0m\u001b[1;33m\u001b[0m\u001b[1;33m\u001b[0m\u001b[0m\n\u001b[0m\u001b[0;32m     33\u001b[0m \u001b[1;33m\u001b[0m\u001b[0m\n\u001b[0;32m     34\u001b[0m     \u001b[1;33m@\u001b[0m\u001b[0munpack_zerodim_and_defer\u001b[0m\u001b[1;33m(\u001b[0m\u001b[1;34m\"__ne__\"\u001b[0m\u001b[1;33m)\u001b[0m\u001b[1;33m\u001b[0m\u001b[1;33m\u001b[0m\u001b[0m\n",
      "\u001b[1;32m~\\anaconda3\\lib\\site-packages\\pandas\\core\\frame.py\u001b[0m in \u001b[0;36m_cmp_method\u001b[1;34m(self, other, op)\u001b[0m\n\u001b[0;32m   6849\u001b[0m         \u001b[0maxis\u001b[0m \u001b[1;33m=\u001b[0m \u001b[1;36m1\u001b[0m  \u001b[1;31m# only relevant for Series other case\u001b[0m\u001b[1;33m\u001b[0m\u001b[1;33m\u001b[0m\u001b[0m\n\u001b[0;32m   6850\u001b[0m \u001b[1;33m\u001b[0m\u001b[0m\n\u001b[1;32m-> 6851\u001b[1;33m         \u001b[0mself\u001b[0m\u001b[1;33m,\u001b[0m \u001b[0mother\u001b[0m \u001b[1;33m=\u001b[0m \u001b[0mops\u001b[0m\u001b[1;33m.\u001b[0m\u001b[0malign_method_FRAME\u001b[0m\u001b[1;33m(\u001b[0m\u001b[0mself\u001b[0m\u001b[1;33m,\u001b[0m \u001b[0mother\u001b[0m\u001b[1;33m,\u001b[0m \u001b[0maxis\u001b[0m\u001b[1;33m,\u001b[0m \u001b[0mflex\u001b[0m\u001b[1;33m=\u001b[0m\u001b[1;32mFalse\u001b[0m\u001b[1;33m,\u001b[0m \u001b[0mlevel\u001b[0m\u001b[1;33m=\u001b[0m\u001b[1;32mNone\u001b[0m\u001b[1;33m)\u001b[0m\u001b[1;33m\u001b[0m\u001b[1;33m\u001b[0m\u001b[0m\n\u001b[0m\u001b[0;32m   6852\u001b[0m \u001b[1;33m\u001b[0m\u001b[0m\n\u001b[0;32m   6853\u001b[0m         \u001b[1;31m# See GH#4537 for discussion of scalar op behavior\u001b[0m\u001b[1;33m\u001b[0m\u001b[1;33m\u001b[0m\u001b[0m\n",
      "\u001b[1;32m~\\anaconda3\\lib\\site-packages\\pandas\\core\\ops\\__init__.py\u001b[0m in \u001b[0;36malign_method_FRAME\u001b[1;34m(left, right, axis, flex, level)\u001b[0m\n\u001b[0;32m    245\u001b[0m \u001b[1;33m\u001b[0m\u001b[0m\n\u001b[0;32m    246\u001b[0m         \u001b[1;32mif\u001b[0m \u001b[0mright\u001b[0m\u001b[1;33m.\u001b[0m\u001b[0mndim\u001b[0m \u001b[1;33m==\u001b[0m \u001b[1;36m1\u001b[0m\u001b[1;33m:\u001b[0m\u001b[1;33m\u001b[0m\u001b[1;33m\u001b[0m\u001b[0m\n\u001b[1;32m--> 247\u001b[1;33m             \u001b[0mright\u001b[0m \u001b[1;33m=\u001b[0m \u001b[0mto_series\u001b[0m\u001b[1;33m(\u001b[0m\u001b[0mright\u001b[0m\u001b[1;33m)\u001b[0m\u001b[1;33m\u001b[0m\u001b[1;33m\u001b[0m\u001b[0m\n\u001b[0m\u001b[0;32m    248\u001b[0m \u001b[1;33m\u001b[0m\u001b[0m\n\u001b[0;32m    249\u001b[0m         \u001b[1;32melif\u001b[0m \u001b[0mright\u001b[0m\u001b[1;33m.\u001b[0m\u001b[0mndim\u001b[0m \u001b[1;33m==\u001b[0m \u001b[1;36m2\u001b[0m\u001b[1;33m:\u001b[0m\u001b[1;33m\u001b[0m\u001b[1;33m\u001b[0m\u001b[0m\n",
      "\u001b[1;32m~\\anaconda3\\lib\\site-packages\\pandas\\core\\ops\\__init__.py\u001b[0m in \u001b[0;36mto_series\u001b[1;34m(right)\u001b[0m\n\u001b[0;32m    236\u001b[0m         \u001b[1;32melse\u001b[0m\u001b[1;33m:\u001b[0m\u001b[1;33m\u001b[0m\u001b[1;33m\u001b[0m\u001b[0m\n\u001b[0;32m    237\u001b[0m             \u001b[1;32mif\u001b[0m \u001b[0mlen\u001b[0m\u001b[1;33m(\u001b[0m\u001b[0mleft\u001b[0m\u001b[1;33m.\u001b[0m\u001b[0mcolumns\u001b[0m\u001b[1;33m)\u001b[0m \u001b[1;33m!=\u001b[0m \u001b[0mlen\u001b[0m\u001b[1;33m(\u001b[0m\u001b[0mright\u001b[0m\u001b[1;33m)\u001b[0m\u001b[1;33m:\u001b[0m\u001b[1;33m\u001b[0m\u001b[1;33m\u001b[0m\u001b[0m\n\u001b[1;32m--> 238\u001b[1;33m                 raise ValueError(\n\u001b[0m\u001b[0;32m    239\u001b[0m                     \u001b[0mmsg\u001b[0m\u001b[1;33m.\u001b[0m\u001b[0mformat\u001b[0m\u001b[1;33m(\u001b[0m\u001b[0mreq_len\u001b[0m\u001b[1;33m=\u001b[0m\u001b[0mlen\u001b[0m\u001b[1;33m(\u001b[0m\u001b[0mleft\u001b[0m\u001b[1;33m.\u001b[0m\u001b[0mcolumns\u001b[0m\u001b[1;33m)\u001b[0m\u001b[1;33m,\u001b[0m \u001b[0mgiven_len\u001b[0m\u001b[1;33m=\u001b[0m\u001b[0mlen\u001b[0m\u001b[1;33m(\u001b[0m\u001b[0mright\u001b[0m\u001b[1;33m)\u001b[0m\u001b[1;33m)\u001b[0m\u001b[1;33m\u001b[0m\u001b[1;33m\u001b[0m\u001b[0m\n\u001b[0;32m    240\u001b[0m                 )\n",
      "\u001b[1;31mValueError\u001b[0m: Unable to coerce to Series, length must be 1: given 49"
     ]
    }
   ],
   "source": [
    "# Create SVM classifier\n",
    "from sklearn import svm\n",
    "clf = svm.SVC(C=1,kernel=\"linear\")\n",
    "\n",
    "train_label = train_label.to_numpy()\n",
    "train_label = train_label.reshape()\n",
    "\n",
    "# Train the classifier\n",
    "clf.fit(train_data, train_label)\n",
    "\n",
    "# Predict the values for training data\n",
    "y_pred = clf.predict(train_data)\n",
    "\n",
    "# Compute accuracy\n",
    "accuracy = 100.0 * (train_label == y_pred).sum() / len(train_label)\n",
    "print(\"Accuracy of SVM classifier =\", round(accuracy, 2), \"%\")\n",
    "\n",
    "# Predict the values for test data\n",
    "y_pred = clf.predict(test_data)\n",
    "\n",
    "# Compute accuracy\n",
    "accuracy = 100.0 * (test_label == y_pred).sum() / len(test_label)\n",
    "print(\"Accuracy of SVM classifier =\", round(accuracy, 2), \"%\")"
   ]
  },
  {
   "cell_type": "code",
   "execution_count": 4,
   "id": "e428772f",
   "metadata": {},
   "outputs": [
    {
     "name": "stdout",
     "output_type": "stream",
     "text": [
      "362\n",
      "72\n",
      "49\n"
     ]
    }
   ],
   "source": [
    "# Process the data into a readable format for the MLP\n",
    "train_data = np.asarray(train_data).astype('float32')\n",
    "train_label = np.reshape(train_label, -1)\n",
    "train_label = to_categorical(train_label, num_classes)\n",
    "\n",
    "validation_data = np.asarray(validation_data).astype('float32')\n",
    "validation_label = np.reshape(validation_label, -1)\n",
    "validation_label = to_categorical(validation_label, num_classes)\n",
    "\n",
    "test_data = np.asarray(test_data).astype('float32')\n",
    "test_label = np.reshape(test_label, -1)\n",
    "test_label = to_categorical(test_label, num_classes)\n",
    "\n",
    "# print(train_data)\n",
    "# print(validation_data)\n",
    "# print(test_data)\n",
    "\n",
    "print(len(train_label))\n",
    "print(len(validation_label))\n",
    "print(len(test_label))\n",
    "\n",
    "# print(len(train_data), len(validation_data))"
   ]
  },
  {
   "cell_type": "code",
   "execution_count": 5,
   "id": "30843eb6",
   "metadata": {},
   "outputs": [],
   "source": [
    "# Create the model\n",
    "model = Sequential()\n",
    "model.add(Dense(40, activation='relu'))\n",
    "model.add(Dense(10, activation='relu'))\n",
    "model.add(Dense(num_classes, activation='softmax'))"
   ]
  },
  {
   "cell_type": "code",
   "execution_count": 6,
   "id": "52c42dc2",
   "metadata": {},
   "outputs": [
    {
     "name": "stdout",
     "output_type": "stream",
     "text": [
      "Epoch 1/50\n",
      "12/12 [==============================] - 0s 10ms/step - loss: 4.1368 - accuracy: 0.5497 - val_loss: 1.5690 - val_accuracy: 0.5139\n",
      "Epoch 2/50\n",
      "12/12 [==============================] - 0s 2ms/step - loss: 2.3811 - accuracy: 0.5994 - val_loss: 1.0321 - val_accuracy: 0.6111\n",
      "Epoch 3/50\n",
      "12/12 [==============================] - 0s 2ms/step - loss: 1.8490 - accuracy: 0.6215 - val_loss: 1.0017 - val_accuracy: 0.6111\n",
      "Epoch 4/50\n",
      "12/12 [==============================] - 0s 2ms/step - loss: 1.5916 - accuracy: 0.5939 - val_loss: 0.9533 - val_accuracy: 0.6111\n",
      "Epoch 5/50\n",
      "12/12 [==============================] - 0s 2ms/step - loss: 1.3260 - accuracy: 0.6436 - val_loss: 0.9675 - val_accuracy: 0.5694\n",
      "Epoch 6/50\n",
      "12/12 [==============================] - 0s 2ms/step - loss: 1.1810 - accuracy: 0.6519 - val_loss: 1.0299 - val_accuracy: 0.5000\n",
      "Epoch 7/50\n",
      "12/12 [==============================] - 0s 2ms/step - loss: 1.0852 - accuracy: 0.6354 - val_loss: 0.9021 - val_accuracy: 0.5972\n",
      "Epoch 8/50\n",
      "12/12 [==============================] - 0s 2ms/step - loss: 0.9355 - accuracy: 0.6713 - val_loss: 0.8938 - val_accuracy: 0.5694\n",
      "Epoch 9/50\n",
      "12/12 [==============================] - 0s 2ms/step - loss: 0.8635 - accuracy: 0.6630 - val_loss: 0.8623 - val_accuracy: 0.6389\n",
      "Epoch 10/50\n",
      "12/12 [==============================] - 0s 2ms/step - loss: 0.8208 - accuracy: 0.6713 - val_loss: 0.9354 - val_accuracy: 0.5556\n",
      "Epoch 11/50\n",
      "12/12 [==============================] - 0s 2ms/step - loss: 0.7670 - accuracy: 0.6740 - val_loss: 0.9162 - val_accuracy: 0.6667\n",
      "Epoch 12/50\n",
      "12/12 [==============================] - 0s 2ms/step - loss: 0.7209 - accuracy: 0.6796 - val_loss: 0.9079 - val_accuracy: 0.6389\n",
      "Epoch 13/50\n",
      "12/12 [==============================] - 0s 2ms/step - loss: 0.6954 - accuracy: 0.6851 - val_loss: 0.9642 - val_accuracy: 0.6806\n",
      "Epoch 14/50\n",
      "12/12 [==============================] - 0s 2ms/step - loss: 0.6859 - accuracy: 0.6906 - val_loss: 0.9411 - val_accuracy: 0.5833\n",
      "Epoch 15/50\n",
      "12/12 [==============================] - 0s 2ms/step - loss: 0.6542 - accuracy: 0.7210 - val_loss: 0.9347 - val_accuracy: 0.5694\n",
      "Epoch 16/50\n",
      "12/12 [==============================] - 0s 2ms/step - loss: 0.6322 - accuracy: 0.7403 - val_loss: 0.8902 - val_accuracy: 0.6389\n",
      "Epoch 17/50\n",
      "12/12 [==============================] - 0s 2ms/step - loss: 0.6254 - accuracy: 0.7210 - val_loss: 0.8795 - val_accuracy: 0.6806\n",
      "Epoch 18/50\n",
      "12/12 [==============================] - 0s 2ms/step - loss: 0.6421 - accuracy: 0.7072 - val_loss: 0.8915 - val_accuracy: 0.6806\n",
      "Epoch 19/50\n",
      "12/12 [==============================] - 0s 2ms/step - loss: 0.6768 - accuracy: 0.7017 - val_loss: 0.8417 - val_accuracy: 0.6111\n",
      "Epoch 20/50\n",
      "12/12 [==============================] - 0s 2ms/step - loss: 0.6127 - accuracy: 0.7210 - val_loss: 0.9266 - val_accuracy: 0.5556\n",
      "Epoch 21/50\n",
      "12/12 [==============================] - 0s 2ms/step - loss: 0.5926 - accuracy: 0.7376 - val_loss: 0.9475 - val_accuracy: 0.5833\n",
      "Epoch 22/50\n",
      "12/12 [==============================] - 0s 2ms/step - loss: 0.5763 - accuracy: 0.7541 - val_loss: 0.8975 - val_accuracy: 0.5972\n",
      "Epoch 23/50\n",
      "12/12 [==============================] - 0s 2ms/step - loss: 0.5667 - accuracy: 0.7155 - val_loss: 0.8459 - val_accuracy: 0.6667\n",
      "Epoch 24/50\n",
      "12/12 [==============================] - 0s 2ms/step - loss: 0.5696 - accuracy: 0.7155 - val_loss: 0.8638 - val_accuracy: 0.6111\n",
      "Epoch 25/50\n",
      "12/12 [==============================] - 0s 2ms/step - loss: 0.5526 - accuracy: 0.7293 - val_loss: 0.8637 - val_accuracy: 0.6528\n",
      "Epoch 26/50\n",
      "12/12 [==============================] - 0s 2ms/step - loss: 0.6036 - accuracy: 0.7044 - val_loss: 0.8459 - val_accuracy: 0.6389\n",
      "Epoch 27/50\n",
      "12/12 [==============================] - 0s 2ms/step - loss: 0.5870 - accuracy: 0.7376 - val_loss: 0.8868 - val_accuracy: 0.5972\n",
      "Epoch 28/50\n",
      "12/12 [==============================] - 0s 2ms/step - loss: 0.5570 - accuracy: 0.7514 - val_loss: 0.9442 - val_accuracy: 0.5556\n",
      "Epoch 29/50\n",
      "12/12 [==============================] - 0s 2ms/step - loss: 0.5354 - accuracy: 0.7320 - val_loss: 0.8568 - val_accuracy: 0.5694\n",
      "Epoch 30/50\n",
      "12/12 [==============================] - 0s 2ms/step - loss: 0.5264 - accuracy: 0.7597 - val_loss: 0.8545 - val_accuracy: 0.5556\n",
      "Epoch 31/50\n",
      "12/12 [==============================] - 0s 2ms/step - loss: 0.5318 - accuracy: 0.7348 - val_loss: 0.8722 - val_accuracy: 0.6667\n",
      "Epoch 32/50\n",
      "12/12 [==============================] - 0s 2ms/step - loss: 0.5271 - accuracy: 0.7265 - val_loss: 0.8497 - val_accuracy: 0.6389\n",
      "Epoch 33/50\n",
      "12/12 [==============================] - 0s 2ms/step - loss: 0.5117 - accuracy: 0.7569 - val_loss: 0.8386 - val_accuracy: 0.5278\n",
      "Epoch 34/50\n",
      "12/12 [==============================] - 0s 2ms/step - loss: 0.5028 - accuracy: 0.7459 - val_loss: 0.8726 - val_accuracy: 0.5833\n",
      "Epoch 35/50\n",
      "12/12 [==============================] - 0s 2ms/step - loss: 0.5251 - accuracy: 0.7376 - val_loss: 0.9967 - val_accuracy: 0.5556\n",
      "Epoch 36/50\n",
      "12/12 [==============================] - 0s 2ms/step - loss: 0.5327 - accuracy: 0.7320 - val_loss: 0.8789 - val_accuracy: 0.5694\n",
      "Epoch 37/50\n",
      "12/12 [==============================] - 0s 2ms/step - loss: 0.4851 - accuracy: 0.7569 - val_loss: 1.0739 - val_accuracy: 0.5417\n",
      "Epoch 38/50\n",
      "12/12 [==============================] - 0s 2ms/step - loss: 0.5529 - accuracy: 0.7155 - val_loss: 0.8699 - val_accuracy: 0.5694\n",
      "Epoch 39/50\n",
      "12/12 [==============================] - 0s 2ms/step - loss: 0.4865 - accuracy: 0.7569 - val_loss: 0.9707 - val_accuracy: 0.5556\n",
      "Epoch 40/50\n",
      "12/12 [==============================] - 0s 2ms/step - loss: 0.5712 - accuracy: 0.7265 - val_loss: 0.8476 - val_accuracy: 0.5833\n",
      "Epoch 41/50\n",
      "12/12 [==============================] - 0s 2ms/step - loss: 0.6049 - accuracy: 0.7293 - val_loss: 0.8396 - val_accuracy: 0.5556\n",
      "Epoch 42/50\n",
      "12/12 [==============================] - 0s 2ms/step - loss: 0.5380 - accuracy: 0.7486 - val_loss: 0.9179 - val_accuracy: 0.5556\n",
      "Epoch 43/50\n",
      "12/12 [==============================] - 0s 2ms/step - loss: 0.5307 - accuracy: 0.7514 - val_loss: 0.8751 - val_accuracy: 0.5417\n",
      "Epoch 44/50\n",
      "12/12 [==============================] - 0s 2ms/step - loss: 0.5118 - accuracy: 0.7624 - val_loss: 0.8326 - val_accuracy: 0.5972\n",
      "Epoch 45/50\n",
      "12/12 [==============================] - 0s 2ms/step - loss: 0.5023 - accuracy: 0.7486 - val_loss: 0.8059 - val_accuracy: 0.5833\n",
      "Epoch 46/50\n",
      "12/12 [==============================] - 0s 2ms/step - loss: 0.4807 - accuracy: 0.7514 - val_loss: 0.8097 - val_accuracy: 0.5694\n",
      "Epoch 47/50\n",
      "12/12 [==============================] - 0s 2ms/step - loss: 0.4899 - accuracy: 0.7569 - val_loss: 0.8745 - val_accuracy: 0.5833\n",
      "Epoch 48/50\n",
      "12/12 [==============================] - 0s 2ms/step - loss: 0.4880 - accuracy: 0.7569 - val_loss: 0.8511 - val_accuracy: 0.5694\n",
      "Epoch 49/50\n",
      "12/12 [==============================] - 0s 2ms/step - loss: 0.4632 - accuracy: 0.7735 - val_loss: 0.9186 - val_accuracy: 0.5694\n",
      "Epoch 50/50\n",
      "12/12 [==============================] - 0s 2ms/step - loss: 0.4873 - accuracy: 0.7403 - val_loss: 0.9126 - val_accuracy: 0.5694\n"
     ]
    },
    {
     "data": {
      "text/plain": [
       "<keras.callbacks.History at 0x16d6dbb6940>"
      ]
     },
     "execution_count": 6,
     "metadata": {},
     "output_type": "execute_result"
    }
   ],
   "source": [
    "# Configure the model and start training\n",
    "model.compile(loss='categorical_crossentropy', optimizer='adam', metrics=['accuracy'])\n",
    "model.fit(train_data, train_label, batch_size=32, epochs=50, verbose=1, validation_data=(validation_data, validation_label))"
   ]
  },
  {
   "cell_type": "code",
   "execution_count": 7,
   "id": "64e1b44c",
   "metadata": {},
   "outputs": [
    {
     "name": "stdout",
     "output_type": "stream",
     "text": [
      "Model: \"sequential\"\n",
      "_________________________________________________________________\n",
      " Layer (type)                Output Shape              Param #   \n",
      "=================================================================\n",
      " dense (Dense)               (None, 40)                2000      \n",
      "                                                                 \n",
      " dense_1 (Dense)             (None, 10)                410       \n",
      "                                                                 \n",
      " dense_2 (Dense)             (None, 2)                 22        \n",
      "                                                                 \n",
      "=================================================================\n",
      "Total params: 2,432\n",
      "Trainable params: 2,432\n",
      "Non-trainable params: 0\n",
      "_________________________________________________________________\n"
     ]
    }
   ],
   "source": [
    "model.summary()"
   ]
  },
  {
   "cell_type": "code",
   "execution_count": 8,
   "id": "0cd22001",
   "metadata": {},
   "outputs": [
    {
     "name": "stdout",
     "output_type": "stream",
     "text": [
      "2/2 - 0s - loss: 0.7624 - accuracy: 0.6122 - 11ms/epoch - 5ms/step\n",
      "Model, accuracy: 61.22%\n"
     ]
    }
   ],
   "source": [
    "# EVALUATE THE MODEL\n",
    "loss, acc = model.evaluate(test_data, test_label, verbose=2)\n",
    "print(\"Model, accuracy: {:5.2f}%\".format(100 * acc))"
   ]
  },
  {
   "cell_type": "code",
   "execution_count": 9,
   "id": "f1adf161",
   "metadata": {},
   "outputs": [
    {
     "name": "stdout",
     "output_type": "stream",
     "text": [
      "Predictions:  [0 1 1 0 1 0 0 0 1 1 1 0 0 1 0 1 0 0 0 1 0 0 1 0 1 1 1 1 0 1 0 1 0 0 0 1 0\n",
      " 0 0 0 1 1 0 0 0 1 0 1 0]\n",
      "Ground truth:  [[1. 0.]\n",
      " [1. 0.]\n",
      " [1. 0.]\n",
      " [0. 1.]\n",
      " [1. 0.]\n",
      " [1. 0.]\n",
      " [1. 0.]\n",
      " [1. 0.]\n",
      " [0. 1.]\n",
      " [0. 1.]\n",
      " [1. 0.]\n",
      " [1. 0.]\n",
      " [1. 0.]\n",
      " [1. 0.]\n",
      " [1. 0.]\n",
      " [1. 0.]\n",
      " [1. 0.]\n",
      " [0. 1.]\n",
      " [0. 1.]\n",
      " [1. 0.]\n",
      " [1. 0.]\n",
      " [1. 0.]\n",
      " [0. 1.]\n",
      " [1. 0.]\n",
      " [1. 0.]\n",
      " [1. 0.]\n",
      " [1. 0.]\n",
      " [1. 0.]\n",
      " [1. 0.]\n",
      " [0. 1.]\n",
      " [1. 0.]\n",
      " [0. 1.]\n",
      " [1. 0.]\n",
      " [1. 0.]\n",
      " [1. 0.]\n",
      " [0. 1.]\n",
      " [1. 0.]\n",
      " [1. 0.]\n",
      " [0. 1.]\n",
      " [1. 0.]\n",
      " [0. 1.]\n",
      " [0. 1.]\n",
      " [1. 0.]\n",
      " [0. 1.]\n",
      " [1. 0.]\n",
      " [1. 0.]\n",
      " [0. 1.]\n",
      " [0. 1.]\n",
      " [0. 1.]]\n"
     ]
    }
   ],
   "source": [
    "# MAKE PREDICTIONS\n",
    "predictions = np.argmax(model.predict(test_data), axis=1)\n",
    "\n",
    "print(\"Predictions: \", predictions)\n",
    "print(\"Ground truth: \", test_label)"
   ]
  },
  {
   "cell_type": "code",
   "execution_count": 10,
   "id": "d1521ed9",
   "metadata": {},
   "outputs": [
    {
     "name": "stdout",
     "output_type": "stream",
     "text": [
      "Recall/Sensitivity/True positive rate:  0.5625\n",
      "Specificity/selectivity/True negative rate:  0.6363636363636364\n",
      "Precision/Positive predictive value:  0.42857142857142855\n",
      "Negative predictive value:  0.75\n",
      "F1 score:  0.4864864864864864\n"
     ]
    },
    {
     "data": {
      "image/png": "[encoded data removed]",
      "text/plain": [
       "<Figure size 432x288 with 2 Axes>"
      ]
     },
     "metadata": {
      "needs_background": "light"
     },
     "output_type": "display_data"
    },
    {
     "name": "stdout",
     "output_type": "stream",
     "text": [
      "AUC value:  0.5994318181818181\n"
     ]
    },
    {
     "data": {
      "image/png": "[encoded data removed]",
      "text/plain": [
       "<Figure size 432x288 with 1 Axes>"
      ]
     },
     "metadata": {
      "needs_background": "light"
     },
     "output_type": "display_data"
    }
   ],
   "source": [
    "# GENERATE METRICS\n",
    "cm = confusion_matrix(np.argmax(test_label, axis=1), predictions)\n",
    "tn, fp, fn, tp = cm[0][0], cm[0][1], cm[1][0], cm[1][1]\n",
    "tpr = tp / (tp + fn)\n",
    "tnr = tn / (tn + fp)\n",
    "ppv = tp / (tp + fp)\n",
    "npv = tn / (tn + fn)\n",
    "f1 = 2 * ((ppv * tpr) / (ppv + tpr))\n",
    "\n",
    "print(\"Recall/Sensitivity/True positive rate: \", tpr)\n",
    "print(\"Specificity/selectivity/True negative rate: \", tnr)\n",
    "print(\"Precision/Positive predictive value: \", ppv)\n",
    "print(\"Negative predictive value: \", npv)\n",
    "print(\"F1 score: \", f1)\n",
    "\n",
    "disp = ConfusionMatrixDisplay(confusion_matrix=cm, display_labels=list(np.unique(train_label)))\n",
    "disp.plot()\n",
    "disp.ax_.set(\n",
    "                title='Confusion Matrix', \n",
    "                xlabel='Predicted Outcome', \n",
    "                ylabel='Actual Outcome')\n",
    "plt.show()\n",
    "\n",
    "# test roc\n",
    "nn_fpr_keras, nn_tpr_keras, nn_thresholds_keras = roc_curve(np.argmax(test_label, axis=1), predictions)\n",
    "auc_keras = auc(nn_fpr_keras, nn_tpr_keras)\n",
    "plt.plot(nn_fpr_keras, nn_tpr_keras, marker='.', label='Neural Network (auc = %0.3f)' % auc_keras)\n",
    "print(\"AUC value: \", auc_keras)"
   ]
  },
  {
   "cell_type": "code",
   "execution_count": 11,
   "id": "a6ba3839",
   "metadata": {},
   "outputs": [
    {
     "name": "stdout",
     "output_type": "stream",
     "text": [
      "Excel library version: 16.0\n",
      "[1. 1.]\n"
     ]
    }
   ],
   "source": [
    "# Try using class weights\n",
    "\n",
    "# Extract data from .xlsx file\n",
    "xlApp = win32com.client.Dispatch(\"Excel.Application\")\n",
    "print(\"Excel library version:\", xlApp.Version)\n",
    "xlwb = xlApp.Workbooks.Open(excelPath)\n",
    "xlws = xlwb.Sheets(1)\n",
    "\n",
    "labels = xlws.Range(xlws.Cells(2,73), xlws.Cells(523,73)).Value\n",
    "\n",
    "from sklearn.utils import class_weight\n",
    "label = np.asarray(train_label)\n",
    "label = np.reshape(label, -1)\n",
    "\n",
    "class_weights = class_weight.compute_class_weight(class_weight='balanced',\n",
    "                                                 classes=np.unique(label),\n",
    "                                                 y=label)\n",
    "\n",
    "print(class_weights)\n",
    "\n",
    "class_weights = {0: 1,\n",
    "                 1: 1}"
   ]
  },
  {
   "cell_type": "code",
   "execution_count": 12,
   "id": "69e75942",
   "metadata": {},
   "outputs": [
    {
     "name": "stdout",
     "output_type": "stream",
     "text": [
      "Epoch 1/50\n",
      "12/12 [==============================] - 0s 9ms/step - loss: 3.9337 - accuracy: 0.5691 - val_loss: 2.4595 - val_accuracy: 0.6250\n",
      "Epoch 2/50\n",
      "12/12 [==============================] - 0s 2ms/step - loss: 2.0983 - accuracy: 0.5884 - val_loss: 2.0100 - val_accuracy: 0.4306\n",
      "Epoch 3/50\n",
      "12/12 [==============================] - 0s 2ms/step - loss: 1.5011 - accuracy: 0.6630 - val_loss: 1.4895 - val_accuracy: 0.5556\n",
      "Epoch 4/50\n",
      "12/12 [==============================] - 0s 2ms/step - loss: 1.2246 - accuracy: 0.5967 - val_loss: 1.2926 - val_accuracy: 0.5972\n",
      "Epoch 5/50\n",
      "12/12 [==============================] - 0s 3ms/step - loss: 1.0550 - accuracy: 0.6547 - val_loss: 1.1947 - val_accuracy: 0.5694\n",
      "Epoch 6/50\n",
      "12/12 [==============================] - 0s 2ms/step - loss: 0.9576 - accuracy: 0.6796 - val_loss: 1.1174 - val_accuracy: 0.5972\n",
      "Epoch 7/50\n",
      "12/12 [==============================] - 0s 2ms/step - loss: 0.8736 - accuracy: 0.7017 - val_loss: 1.0888 - val_accuracy: 0.5833\n",
      "Epoch 8/50\n",
      "12/12 [==============================] - 0s 3ms/step - loss: 0.8323 - accuracy: 0.6989 - val_loss: 1.0437 - val_accuracy: 0.5972\n",
      "Epoch 9/50\n",
      "12/12 [==============================] - 0s 2ms/step - loss: 0.7551 - accuracy: 0.7210 - val_loss: 1.0016 - val_accuracy: 0.6111\n",
      "Epoch 10/50\n",
      "12/12 [==============================] - 0s 2ms/step - loss: 0.7031 - accuracy: 0.6961 - val_loss: 0.9898 - val_accuracy: 0.6111\n",
      "Epoch 11/50\n",
      "12/12 [==============================] - 0s 2ms/step - loss: 0.8076 - accuracy: 0.6740 - val_loss: 1.0101 - val_accuracy: 0.6528\n",
      "Epoch 12/50\n",
      "12/12 [==============================] - 0s 3ms/step - loss: 0.7197 - accuracy: 0.7017 - val_loss: 0.9885 - val_accuracy: 0.6111\n",
      "Epoch 13/50\n",
      "12/12 [==============================] - 0s 3ms/step - loss: 0.6337 - accuracy: 0.7265 - val_loss: 1.0190 - val_accuracy: 0.5139\n",
      "Epoch 14/50\n",
      "12/12 [==============================] - 0s 3ms/step - loss: 0.6367 - accuracy: 0.7044 - val_loss: 1.0771 - val_accuracy: 0.4861\n",
      "Epoch 15/50\n",
      "12/12 [==============================] - 0s 3ms/step - loss: 0.6306 - accuracy: 0.7459 - val_loss: 1.0882 - val_accuracy: 0.4861\n",
      "Epoch 16/50\n",
      "12/12 [==============================] - 0s 3ms/step - loss: 0.6540 - accuracy: 0.7265 - val_loss: 0.9733 - val_accuracy: 0.5694\n",
      "Epoch 17/50\n",
      "12/12 [==============================] - 0s 3ms/step - loss: 0.6110 - accuracy: 0.6823 - val_loss: 0.9504 - val_accuracy: 0.5556\n",
      "Epoch 18/50\n",
      "12/12 [==============================] - 0s 3ms/step - loss: 0.5772 - accuracy: 0.7182 - val_loss: 0.9651 - val_accuracy: 0.5556\n",
      "Epoch 19/50\n",
      "12/12 [==============================] - 0s 3ms/step - loss: 0.5655 - accuracy: 0.7348 - val_loss: 0.9502 - val_accuracy: 0.5833\n",
      "Epoch 20/50\n",
      "12/12 [==============================] - 0s 3ms/step - loss: 0.5532 - accuracy: 0.7376 - val_loss: 0.9600 - val_accuracy: 0.5417\n",
      "Epoch 21/50\n",
      "12/12 [==============================] - 0s 3ms/step - loss: 0.5443 - accuracy: 0.7293 - val_loss: 0.9421 - val_accuracy: 0.6111\n",
      "Epoch 22/50\n",
      "12/12 [==============================] - 0s 3ms/step - loss: 0.5311 - accuracy: 0.7376 - val_loss: 0.9857 - val_accuracy: 0.6806\n",
      "Epoch 23/50\n",
      "12/12 [==============================] - 0s 2ms/step - loss: 0.5435 - accuracy: 0.7293 - val_loss: 0.9519 - val_accuracy: 0.5694\n",
      "Epoch 24/50\n",
      "12/12 [==============================] - 0s 2ms/step - loss: 0.5345 - accuracy: 0.7155 - val_loss: 0.9515 - val_accuracy: 0.5556\n",
      "Epoch 25/50\n",
      "12/12 [==============================] - 0s 2ms/step - loss: 0.5124 - accuracy: 0.7541 - val_loss: 0.9809 - val_accuracy: 0.5278\n",
      "Epoch 26/50\n",
      "12/12 [==============================] - 0s 2ms/step - loss: 0.4933 - accuracy: 0.7597 - val_loss: 1.0048 - val_accuracy: 0.4861\n",
      "Epoch 27/50\n",
      "12/12 [==============================] - 0s 3ms/step - loss: 0.5297 - accuracy: 0.7155 - val_loss: 0.9240 - val_accuracy: 0.5833\n",
      "Epoch 28/50\n",
      "12/12 [==============================] - 0s 2ms/step - loss: 0.5308 - accuracy: 0.7459 - val_loss: 0.9578 - val_accuracy: 0.5417\n",
      "Epoch 29/50\n",
      "12/12 [==============================] - 0s 3ms/step - loss: 0.5144 - accuracy: 0.7680 - val_loss: 1.0440 - val_accuracy: 0.4722\n",
      "Epoch 30/50\n",
      "12/12 [==============================] - 0s 2ms/step - loss: 0.5194 - accuracy: 0.7431 - val_loss: 0.9305 - val_accuracy: 0.6528\n",
      "Epoch 31/50\n",
      "12/12 [==============================] - 0s 2ms/step - loss: 0.5572 - accuracy: 0.7597 - val_loss: 0.9484 - val_accuracy: 0.6528\n",
      "Epoch 32/50\n",
      "12/12 [==============================] - 0s 2ms/step - loss: 0.4837 - accuracy: 0.7597 - val_loss: 0.9340 - val_accuracy: 0.5694\n",
      "Epoch 33/50\n",
      "12/12 [==============================] - 0s 2ms/step - loss: 0.4612 - accuracy: 0.7735 - val_loss: 0.9406 - val_accuracy: 0.5417\n",
      "Epoch 34/50\n",
      "12/12 [==============================] - 0s 3ms/step - loss: 0.4570 - accuracy: 0.7569 - val_loss: 1.0004 - val_accuracy: 0.5000\n",
      "Epoch 35/50\n",
      "12/12 [==============================] - 0s 2ms/step - loss: 0.5047 - accuracy: 0.7403 - val_loss: 0.9144 - val_accuracy: 0.6111\n",
      "Epoch 36/50\n",
      "12/12 [==============================] - 0s 2ms/step - loss: 0.5081 - accuracy: 0.7624 - val_loss: 0.9218 - val_accuracy: 0.6528\n",
      "Epoch 37/50\n",
      "12/12 [==============================] - 0s 2ms/step - loss: 0.4580 - accuracy: 0.7597 - val_loss: 0.9278 - val_accuracy: 0.5833\n",
      "Epoch 38/50\n",
      "12/12 [==============================] - 0s 2ms/step - loss: 0.4549 - accuracy: 0.7514 - val_loss: 0.9190 - val_accuracy: 0.6528\n",
      "Epoch 39/50\n",
      "12/12 [==============================] - 0s 2ms/step - loss: 0.4431 - accuracy: 0.7790 - val_loss: 0.9263 - val_accuracy: 0.6111\n",
      "Epoch 40/50\n",
      "12/12 [==============================] - 0s 2ms/step - loss: 0.4777 - accuracy: 0.7486 - val_loss: 0.9405 - val_accuracy: 0.5139\n",
      "Epoch 41/50\n",
      "12/12 [==============================] - 0s 2ms/step - loss: 0.4819 - accuracy: 0.7735 - val_loss: 0.9689 - val_accuracy: 0.5278\n",
      "Epoch 42/50\n",
      "12/12 [==============================] - 0s 2ms/step - loss: 0.4311 - accuracy: 0.7790 - val_loss: 0.9477 - val_accuracy: 0.5139\n",
      "Epoch 43/50\n",
      "12/12 [==============================] - 0s 2ms/step - loss: 0.4391 - accuracy: 0.7956 - val_loss: 0.9198 - val_accuracy: 0.6250\n",
      "Epoch 44/50\n",
      "12/12 [==============================] - 0s 2ms/step - loss: 0.4508 - accuracy: 0.7790 - val_loss: 0.9280 - val_accuracy: 0.5000\n",
      "Epoch 45/50\n",
      "12/12 [==============================] - 0s 2ms/step - loss: 0.4451 - accuracy: 0.7901 - val_loss: 0.9085 - val_accuracy: 0.6111\n",
      "Epoch 46/50\n",
      "12/12 [==============================] - 0s 2ms/step - loss: 0.4320 - accuracy: 0.7818 - val_loss: 0.9054 - val_accuracy: 0.6806\n",
      "Epoch 47/50\n",
      "12/12 [==============================] - 0s 2ms/step - loss: 0.4042 - accuracy: 0.8094 - val_loss: 0.9346 - val_accuracy: 0.5000\n",
      "Epoch 48/50\n",
      "12/12 [==============================] - 0s 2ms/step - loss: 0.4064 - accuracy: 0.7983 - val_loss: 0.9562 - val_accuracy: 0.5139\n",
      "Epoch 49/50\n",
      "12/12 [==============================] - 0s 2ms/step - loss: 0.4040 - accuracy: 0.7873 - val_loss: 0.9514 - val_accuracy: 0.5000\n",
      "Epoch 50/50\n",
      "12/12 [==============================] - 0s 2ms/step - loss: 0.4173 - accuracy: 0.7983 - val_loss: 0.9657 - val_accuracy: 0.5000\n"
     ]
    },
    {
     "data": {
      "text/plain": [
       "<keras.callbacks.History at 0x23447dff160>"
      ]
     },
     "execution_count": 12,
     "metadata": {},
     "output_type": "execute_result"
    }
   ],
   "source": [
    "# Retry MLP again with class weights\n",
    "\n",
    "# Create the model\n",
    "model = Sequential()\n",
    "model.add(Dense(40, activation='relu'))\n",
    "model.add(Dense(10, activation='relu'))\n",
    "model.add(Dense(num_classes, activation='softmax'))\n",
    "\n",
    "# Configure the model and start training\n",
    "model.compile(loss='categorical_crossentropy', optimizer='adam', metrics=['accuracy'])\n",
    "model.fit(train_data, train_label, batch_size=32, epochs=50, verbose=1, validation_data=(validation_data, validation_label), class_weight=class_weights)"
   ]
  },
  {
   "cell_type": "code",
   "execution_count": 13,
   "id": "13bf8c19",
   "metadata": {},
   "outputs": [
    {
     "name": "stdout",
     "output_type": "stream",
     "text": [
      "2/2 - 0s - loss: 0.8299 - accuracy: 0.6735 - 11ms/epoch - 6ms/step\n",
      "Model, accuracy: 67.35%\n"
     ]
    }
   ],
   "source": [
    "# EVALUATE THE MODEL\n",
    "loss, acc = model.evaluate(test_data, test_label, verbose=2)\n",
    "print(\"Model, accuracy: {:5.2f}%\".format(100 * acc))"
   ]
  },
  {
   "cell_type": "code",
   "execution_count": 14,
   "id": "66433800",
   "metadata": {},
   "outputs": [
    {
     "name": "stdout",
     "output_type": "stream",
     "text": [
      "Predictions:  [0 1 0 0 0 0 0 0 0 1 1 0 0 0 1 0 0 0 0 0 0 1 0 0 0 1 0 0 0 0 0 1 1 0 0 0 0\n",
      " 0 0 0 1 1 1 0 0 0 1 1 1]\n",
      "Ground truth:  [[1. 0.]\n",
      " [1. 0.]\n",
      " [1. 0.]\n",
      " [0. 1.]\n",
      " [1. 0.]\n",
      " [1. 0.]\n",
      " [1. 0.]\n",
      " [1. 0.]\n",
      " [0. 1.]\n",
      " [0. 1.]\n",
      " [1. 0.]\n",
      " [1. 0.]\n",
      " [1. 0.]\n",
      " [1. 0.]\n",
      " [1. 0.]\n",
      " [1. 0.]\n",
      " [1. 0.]\n",
      " [0. 1.]\n",
      " [0. 1.]\n",
      " [1. 0.]\n",
      " [1. 0.]\n",
      " [1. 0.]\n",
      " [0. 1.]\n",
      " [1. 0.]\n",
      " [1. 0.]\n",
      " [1. 0.]\n",
      " [1. 0.]\n",
      " [1. 0.]\n",
      " [1. 0.]\n",
      " [0. 1.]\n",
      " [1. 0.]\n",
      " [0. 1.]\n",
      " [1. 0.]\n",
      " [1. 0.]\n",
      " [1. 0.]\n",
      " [0. 1.]\n",
      " [1. 0.]\n",
      " [1. 0.]\n",
      " [0. 1.]\n",
      " [1. 0.]\n",
      " [0. 1.]\n",
      " [0. 1.]\n",
      " [1. 0.]\n",
      " [0. 1.]\n",
      " [1. 0.]\n",
      " [1. 0.]\n",
      " [0. 1.]\n",
      " [0. 1.]\n",
      " [0. 1.]]\n"
     ]
    }
   ],
   "source": [
    "# MAKE PREDICTIONS\n",
    "predictions = np.argmax(model.predict(test_data), axis=1)\n",
    "\n",
    "print(\"Predictions: \", predictions)\n",
    "print(\"Ground truth: \", test_label)"
   ]
  },
  {
   "cell_type": "code",
   "execution_count": 15,
   "id": "f62713e5",
   "metadata": {},
   "outputs": [
    {
     "name": "stdout",
     "output_type": "stream",
     "text": [
      "Recall/Sensitivity/True positive rate:  0.4375\n",
      "Specificity/selectivity/True negative rate:  0.7878787878787878\n",
      "Precision/Positive predictive value:  0.5\n",
      "Negative predictive value:  0.7428571428571429\n",
      "F1 score:  0.4666666666666667\n"
     ]
    },
    {
     "data": {
      "image/png": "[encoded data removed]",
      "text/plain": [
       "<Figure size 432x288 with 2 Axes>"
      ]
     },
     "metadata": {
      "needs_background": "light"
     },
     "output_type": "display_data"
    },
    {
     "name": "stdout",
     "output_type": "stream",
     "text": [
      "AUC value:  0.6126893939393939\n"
     ]
    },
    {
     "data": {
      "image/png": "[encoded data removed]",
      "text/plain": [
       "<Figure size 432x288 with 1 Axes>"
      ]
     },
     "metadata": {
      "needs_background": "light"
     },
     "output_type": "display_data"
    }
   ],
   "source": [
    "# GENERATE METRICS\n",
    "cm = confusion_matrix(np.argmax(test_label, axis=1), predictions)\n",
    "tn, fp, fn, tp = cm[0][0], cm[0][1], cm[1][0], cm[1][1]\n",
    "tpr = tp / (tp + fn)\n",
    "tnr = tn / (tn + fp)\n",
    "ppv = tp / (tp + fp)\n",
    "npv = tn / (tn + fn)\n",
    "f1 = 2 * ((ppv * tpr) / (ppv + tpr))\n",
    "\n",
    "print(\"Recall/Sensitivity/True positive rate: \", tpr)\n",
    "print(\"Specificity/selectivity/True negative rate: \", tnr)\n",
    "print(\"Precision/Positive predictive value: \", ppv)\n",
    "print(\"Negative predictive value: \", npv)\n",
    "print(\"F1 score: \", f1)\n",
    "\n",
    "disp = ConfusionMatrixDisplay(confusion_matrix=cm, display_labels=list(np.unique(train_label)))\n",
    "disp.plot()\n",
    "disp.ax_.set(\n",
    "                title='Confusion Matrix', \n",
    "                xlabel='Predicted Outcome', \n",
    "                ylabel='Actual Outcome')\n",
    "plt.show()\n",
    "\n",
    "# test roc\n",
    "nn_fpr_keras, nn_tpr_keras, nn_thresholds_keras = roc_curve(np.argmax(test_label, axis=1), predictions)\n",
    "auc_keras = auc(nn_fpr_keras, nn_tpr_keras)\n",
    "plt.plot(nn_fpr_keras, nn_tpr_keras, marker='.', label='Neural Network (auc = %0.3f)' % auc_keras)\n",
    "print(\"AUC value: \", auc_keras)"
   ]
  },
  {
   "cell_type": "code",
   "execution_count": 16,
   "id": "0e70558d",
   "metadata": {},
   "outputs": [],
   "source": [
    "# Try PCA next\n",
    "from sklearn import decomposition\n",
    "\n",
    "pca = decomposition.PCA(n_components=10)\n",
    "pca.fit(train_data)\n",
    "reduced_train_data = pca.transform(train_data)\n",
    "\n",
    "pca.fit(validation_data)\n",
    "reduced_validation_data = pca.transform(validation_data)\n",
    "\n",
    "pca.fit(test_data)\n",
    "reduced_test_data = pca.transform(test_data)"
   ]
  },
  {
   "cell_type": "code",
   "execution_count": 17,
   "id": "f37f7f7c",
   "metadata": {},
   "outputs": [
    {
     "name": "stdout",
     "output_type": "stream",
     "text": [
      "Epoch 1/50\n",
      "10/10 [==============================] - 0s 13ms/step - loss: 4.0798 - accuracy: 0.4775 - val_loss: 3.0596 - val_accuracy: 0.5890\n",
      "Epoch 2/50\n",
      "10/10 [==============================] - 0s 3ms/step - loss: 2.4763 - accuracy: 0.6886 - val_loss: 2.1612 - val_accuracy: 0.6027\n",
      "Epoch 3/50\n",
      "10/10 [==============================] - 0s 3ms/step - loss: 1.6093 - accuracy: 0.6678 - val_loss: 1.3747 - val_accuracy: 0.5479\n",
      "Epoch 4/50\n",
      "10/10 [==============================] - 0s 3ms/step - loss: 1.3144 - accuracy: 0.6194 - val_loss: 1.0924 - val_accuracy: 0.6438\n",
      "Epoch 5/50\n",
      "10/10 [==============================] - 0s 3ms/step - loss: 1.0486 - accuracy: 0.6713 - val_loss: 1.1634 - val_accuracy: 0.6301\n",
      "Epoch 6/50\n",
      "10/10 [==============================] - 0s 2ms/step - loss: 0.9714 - accuracy: 0.6955 - val_loss: 0.9486 - val_accuracy: 0.6986\n",
      "Epoch 7/50\n",
      "10/10 [==============================] - 0s 3ms/step - loss: 0.8456 - accuracy: 0.6782 - val_loss: 0.8723 - val_accuracy: 0.6849\n",
      "Epoch 8/50\n",
      "10/10 [==============================] - 0s 3ms/step - loss: 0.8509 - accuracy: 0.6505 - val_loss: 0.7983 - val_accuracy: 0.7123\n",
      "Epoch 9/50\n",
      "10/10 [==============================] - 0s 2ms/step - loss: 0.8369 - accuracy: 0.6817 - val_loss: 0.8618 - val_accuracy: 0.6438\n",
      "Epoch 10/50\n",
      "10/10 [==============================] - 0s 3ms/step - loss: 1.0086 - accuracy: 0.6505 - val_loss: 0.9019 - val_accuracy: 0.6712\n",
      "Epoch 11/50\n",
      "10/10 [==============================] - 0s 2ms/step - loss: 0.9082 - accuracy: 0.7093 - val_loss: 0.9036 - val_accuracy: 0.6849\n",
      "Epoch 12/50\n",
      "10/10 [==============================] - 0s 2ms/step - loss: 0.7943 - accuracy: 0.7059 - val_loss: 0.9420 - val_accuracy: 0.6575\n",
      "Epoch 13/50\n",
      "10/10 [==============================] - 0s 2ms/step - loss: 0.8882 - accuracy: 0.7232 - val_loss: 0.9768 - val_accuracy: 0.6575\n",
      "Epoch 14/50\n",
      "10/10 [==============================] - 0s 3ms/step - loss: 0.7865 - accuracy: 0.7059 - val_loss: 0.8113 - val_accuracy: 0.5890\n",
      "Epoch 15/50\n",
      "10/10 [==============================] - 0s 3ms/step - loss: 0.7562 - accuracy: 0.6609 - val_loss: 0.8019 - val_accuracy: 0.6438\n",
      "Epoch 16/50\n",
      "10/10 [==============================] - 0s 2ms/step - loss: 0.7555 - accuracy: 0.7336 - val_loss: 0.7709 - val_accuracy: 0.6438\n",
      "Epoch 17/50\n",
      "10/10 [==============================] - 0s 3ms/step - loss: 0.7120 - accuracy: 0.7128 - val_loss: 0.7275 - val_accuracy: 0.6438\n",
      "Epoch 18/50\n",
      "10/10 [==============================] - 0s 2ms/step - loss: 0.6836 - accuracy: 0.7128 - val_loss: 0.7197 - val_accuracy: 0.6575\n",
      "Epoch 19/50\n",
      "10/10 [==============================] - 0s 3ms/step - loss: 0.6725 - accuracy: 0.7336 - val_loss: 0.7101 - val_accuracy: 0.6575\n",
      "Epoch 20/50\n",
      "10/10 [==============================] - 0s 3ms/step - loss: 0.6500 - accuracy: 0.7301 - val_loss: 0.7003 - val_accuracy: 0.6301\n",
      "Epoch 21/50\n",
      "10/10 [==============================] - 0s 2ms/step - loss: 0.6428 - accuracy: 0.7197 - val_loss: 0.7145 - val_accuracy: 0.6575\n",
      "Epoch 22/50\n",
      "10/10 [==============================] - 0s 2ms/step - loss: 0.6373 - accuracy: 0.7612 - val_loss: 0.6746 - val_accuracy: 0.6301\n",
      "Epoch 23/50\n",
      "10/10 [==============================] - 0s 2ms/step - loss: 0.6334 - accuracy: 0.7128 - val_loss: 0.6912 - val_accuracy: 0.6301\n",
      "Epoch 24/50\n",
      "10/10 [==============================] - 0s 2ms/step - loss: 0.6423 - accuracy: 0.7543 - val_loss: 0.6673 - val_accuracy: 0.6575\n",
      "Epoch 25/50\n",
      "10/10 [==============================] - 0s 2ms/step - loss: 0.6379 - accuracy: 0.7024 - val_loss: 0.6384 - val_accuracy: 0.6712\n",
      "Epoch 26/50\n",
      "10/10 [==============================] - 0s 3ms/step - loss: 0.6062 - accuracy: 0.7716 - val_loss: 0.6467 - val_accuracy: 0.6301\n",
      "Epoch 27/50\n",
      "10/10 [==============================] - 0s 3ms/step - loss: 0.7880 - accuracy: 0.6159 - val_loss: 0.6626 - val_accuracy: 0.6301\n",
      "Epoch 28/50\n",
      "10/10 [==============================] - 0s 2ms/step - loss: 0.6257 - accuracy: 0.6851 - val_loss: 0.6513 - val_accuracy: 0.6712\n",
      "Epoch 29/50\n",
      "10/10 [==============================] - 0s 3ms/step - loss: 0.6087 - accuracy: 0.7093 - val_loss: 0.6782 - val_accuracy: 0.6849\n",
      "Epoch 30/50\n",
      "10/10 [==============================] - 0s 2ms/step - loss: 0.6145 - accuracy: 0.7682 - val_loss: 0.6972 - val_accuracy: 0.6849\n",
      "Epoch 31/50\n",
      "10/10 [==============================] - 0s 2ms/step - loss: 0.5815 - accuracy: 0.7336 - val_loss: 0.6783 - val_accuracy: 0.6986\n",
      "Epoch 32/50\n",
      "10/10 [==============================] - 0s 2ms/step - loss: 0.6887 - accuracy: 0.7439 - val_loss: 0.7127 - val_accuracy: 0.6438\n",
      "Epoch 33/50\n",
      "10/10 [==============================] - 0s 3ms/step - loss: 0.6448 - accuracy: 0.7509 - val_loss: 0.6756 - val_accuracy: 0.6438\n",
      "Epoch 34/50\n",
      "10/10 [==============================] - 0s 2ms/step - loss: 0.5965 - accuracy: 0.7578 - val_loss: 0.6906 - val_accuracy: 0.7397\n",
      "Epoch 35/50\n",
      "10/10 [==============================] - 0s 3ms/step - loss: 0.5853 - accuracy: 0.7509 - val_loss: 0.6920 - val_accuracy: 0.6849\n",
      "Epoch 36/50\n",
      "10/10 [==============================] - 0s 3ms/step - loss: 0.6207 - accuracy: 0.7785 - val_loss: 0.7171 - val_accuracy: 0.6712\n",
      "Epoch 37/50\n",
      "10/10 [==============================] - 0s 2ms/step - loss: 0.5673 - accuracy: 0.7336 - val_loss: 0.6348 - val_accuracy: 0.6575\n",
      "Epoch 38/50\n",
      "10/10 [==============================] - 0s 2ms/step - loss: 0.5352 - accuracy: 0.7578 - val_loss: 0.6093 - val_accuracy: 0.7123\n",
      "Epoch 39/50\n",
      "10/10 [==============================] - 0s 2ms/step - loss: 0.5890 - accuracy: 0.6678 - val_loss: 0.6176 - val_accuracy: 0.7260\n",
      "Epoch 40/50\n",
      "10/10 [==============================] - 0s 2ms/step - loss: 0.6128 - accuracy: 0.7405 - val_loss: 0.5958 - val_accuracy: 0.7260\n",
      "Epoch 41/50\n",
      "10/10 [==============================] - 0s 2ms/step - loss: 0.5350 - accuracy: 0.7232 - val_loss: 0.6110 - val_accuracy: 0.6849\n",
      "Epoch 42/50\n",
      "10/10 [==============================] - 0s 2ms/step - loss: 0.5335 - accuracy: 0.7751 - val_loss: 0.5951 - val_accuracy: 0.7123\n",
      "Epoch 43/50\n",
      "10/10 [==============================] - 0s 2ms/step - loss: 0.4968 - accuracy: 0.7612 - val_loss: 0.5966 - val_accuracy: 0.6712\n",
      "Epoch 44/50\n",
      "10/10 [==============================] - 0s 2ms/step - loss: 0.5052 - accuracy: 0.7682 - val_loss: 0.6083 - val_accuracy: 0.6986\n",
      "Epoch 45/50\n",
      "10/10 [==============================] - 0s 2ms/step - loss: 0.4935 - accuracy: 0.7612 - val_loss: 0.6023 - val_accuracy: 0.6712\n",
      "Epoch 46/50\n",
      "10/10 [==============================] - 0s 2ms/step - loss: 0.4947 - accuracy: 0.7820 - val_loss: 0.6264 - val_accuracy: 0.6712\n",
      "Epoch 47/50\n",
      "10/10 [==============================] - 0s 2ms/step - loss: 0.5290 - accuracy: 0.7509 - val_loss: 0.6170 - val_accuracy: 0.6712\n",
      "Epoch 48/50\n",
      "10/10 [==============================] - 0s 2ms/step - loss: 0.5279 - accuracy: 0.7439 - val_loss: 0.5941 - val_accuracy: 0.7260\n",
      "Epoch 49/50\n",
      "10/10 [==============================] - 0s 2ms/step - loss: 0.4710 - accuracy: 0.7716 - val_loss: 0.6279 - val_accuracy: 0.6438\n",
      "Epoch 50/50\n",
      "10/10 [==============================] - 0s 2ms/step - loss: 0.5188 - accuracy: 0.7716 - val_loss: 0.6607 - val_accuracy: 0.6712\n"
     ]
    },
    {
     "data": {
      "text/plain": [
       "<keras.callbacks.History at 0x23449aabbe0>"
      ]
     },
     "execution_count": 17,
     "metadata": {},
     "output_type": "execute_result"
    }
   ],
   "source": [
    "# Create the model\n",
    "model = Sequential()\n",
    "model.add(Dense(40, activation='relu'))\n",
    "model.add(Dense(10, activation='relu'))\n",
    "model.add(Dense(num_classes, activation='softmax'))\n",
    "\n",
    "# Configure the model and start training\n",
    "model.compile(loss='categorical_crossentropy', optimizer='adam', metrics=['accuracy'])\n",
    "model.fit(train_data, train_label, batch_size=32, epochs=50, verbose=1, validation_split=0.2)"
   ]
  },
  {
   "cell_type": "code",
   "execution_count": 18,
   "id": "b74f7bb4",
   "metadata": {},
   "outputs": [
    {
     "name": "stdout",
     "output_type": "stream",
     "text": [
      "2/2 - 0s - loss: 0.7202 - accuracy: 0.6122 - 12ms/epoch - 6ms/step\n",
      "Model, accuracy: 61.22%\n"
     ]
    }
   ],
   "source": [
    "# EVALUATE THE MODEL\n",
    "loss, acc = model.evaluate(test_data, test_label, verbose=2)\n",
    "print(\"Model, accuracy: {:5.2f}%\".format(100 * acc))"
   ]
  },
  {
   "cell_type": "code",
   "execution_count": 19,
   "id": "ec61cd51",
   "metadata": {},
   "outputs": [
    {
     "name": "stdout",
     "output_type": "stream",
     "text": [
      "Predictions:  [0 0 0 1 1 0 0 1 0 0 0 0 1 0 0 0 1 0 0 0 0 0 0 0 0 0 0 0 1 0 0 1 0 0 0 0 0\n",
      " 0 0 1 0 1 1 1 0 0 0 0 0]\n",
      "Ground truth:  [[1. 0.]\n",
      " [1. 0.]\n",
      " [1. 0.]\n",
      " [0. 1.]\n",
      " [1. 0.]\n",
      " [1. 0.]\n",
      " [1. 0.]\n",
      " [1. 0.]\n",
      " [0. 1.]\n",
      " [0. 1.]\n",
      " [1. 0.]\n",
      " [1. 0.]\n",
      " [1. 0.]\n",
      " [1. 0.]\n",
      " [1. 0.]\n",
      " [1. 0.]\n",
      " [1. 0.]\n",
      " [0. 1.]\n",
      " [0. 1.]\n",
      " [1. 0.]\n",
      " [1. 0.]\n",
      " [1. 0.]\n",
      " [0. 1.]\n",
      " [1. 0.]\n",
      " [1. 0.]\n",
      " [1. 0.]\n",
      " [1. 0.]\n",
      " [1. 0.]\n",
      " [1. 0.]\n",
      " [0. 1.]\n",
      " [1. 0.]\n",
      " [0. 1.]\n",
      " [1. 0.]\n",
      " [1. 0.]\n",
      " [1. 0.]\n",
      " [0. 1.]\n",
      " [1. 0.]\n",
      " [1. 0.]\n",
      " [0. 1.]\n",
      " [1. 0.]\n",
      " [0. 1.]\n",
      " [0. 1.]\n",
      " [1. 0.]\n",
      " [0. 1.]\n",
      " [1. 0.]\n",
      " [1. 0.]\n",
      " [0. 1.]\n",
      " [0. 1.]\n",
      " [0. 1.]]\n"
     ]
    }
   ],
   "source": [
    "# MAKE PREDICTIONS\n",
    "predictions = np.argmax(model.predict(test_data), axis=1)\n",
    "\n",
    "print(\"Predictions: \", predictions)\n",
    "print(\"Ground truth: \", test_label)"
   ]
  },
  {
   "cell_type": "code",
   "execution_count": 20,
   "id": "e1106151",
   "metadata": {},
   "outputs": [
    {
     "name": "stdout",
     "output_type": "stream",
     "text": [
      "Recall/Sensitivity/True positive rate:  0.25\n",
      "Specificity/selectivity/True negative rate:  0.7878787878787878\n",
      "Precision/Positive predictive value:  0.36363636363636365\n",
      "Negative predictive value:  0.6842105263157895\n",
      "F1 score:  0.2962962962962963\n"
     ]
    },
    {
     "data": {
      "image/png": "[encoded data removed]",
      "text/plain": [
       "<Figure size 432x288 with 2 Axes>"
      ]
     },
     "metadata": {
      "needs_background": "light"
     },
     "output_type": "display_data"
    },
    {
     "name": "stdout",
     "output_type": "stream",
     "text": [
      "AUC value:  0.5189393939393939\n"
     ]
    },
    {
     "data": {
      "image/png": "[encoded data removed]",
      "text/plain": [
       "<Figure size 432x288 with 1 Axes>"
      ]
     },
     "metadata": {
      "needs_background": "light"
     },
     "output_type": "display_data"
    }
   ],
   "source": [
    "# GENERATE METRICS\n",
    "cm = confusion_matrix(np.argmax(test_label, axis=1), predictions)\n",
    "tn, fp, fn, tp = cm[0][0], cm[0][1], cm[1][0], cm[1][1]\n",
    "tpr = tp / (tp + fn)\n",
    "tnr = tn / (tn + fp)\n",
    "ppv = tp / (tp + fp)\n",
    "npv = tn / (tn + fn)\n",
    "f1 = 2 * ((ppv * tpr) / (ppv + tpr))\n",
    "\n",
    "print(\"Recall/Sensitivity/True positive rate: \", tpr)\n",
    "print(\"Specificity/selectivity/True negative rate: \", tnr)\n",
    "print(\"Precision/Positive predictive value: \", ppv)\n",
    "print(\"Negative predictive value: \", npv)\n",
    "print(\"F1 score: \", f1)\n",
    "\n",
    "disp = ConfusionMatrixDisplay(confusion_matrix=cm, display_labels=list(np.unique(train_label)))\n",
    "disp.plot()\n",
    "disp.ax_.set(\n",
    "                title='Confusion Matrix', \n",
    "                xlabel='Predicted Outcome', \n",
    "                ylabel='Actual Outcome')\n",
    "plt.show()\n",
    "\n",
    "# test roc\n",
    "nn_fpr_keras, nn_tpr_keras, nn_thresholds_keras = roc_curve(np.argmax(test_label, axis=1), predictions)\n",
    "auc_keras = auc(nn_fpr_keras, nn_tpr_keras)\n",
    "plt.plot(nn_fpr_keras, nn_tpr_keras, marker='.', label='Neural Network (auc = %0.3f)' % auc_keras)\n",
    "print(\"AUC value: \", auc_keras)"
   ]
  },
  {
   "cell_type": "code",
   "execution_count": null,
   "id": "ab9bd6ce",
   "metadata": {},
   "outputs": [],
   "source": []
  }
 ],
 "metadata": {
  "kernelspec": {
   "display_name": "Python 3 (ipykernel)",
   "language": "python",
   "name": "python3"
  },
  "language_info": {
   "codemirror_mode": {
    "name": "ipython",
    "version": 3
   },
   "file_extension": ".py",
   "mimetype": "text/x-python",
   "name": "python",
   "nbconvert_exporter": "python",
   "pygments_lexer": "ipython3",
   "version": "3.9.7"
  }
 },
 "nbformat": 4,
 "nbformat_minor": 5
}
